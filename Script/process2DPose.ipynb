{
 "cells": [
  {
   "cell_type": "markdown",
   "metadata": {},
   "source": [
    "# Process 2D Pose: For all 2D pose of each style, we save each keypoint in .txt file in each line"
   ]
  },
  {
   "cell_type": "markdown",
   "metadata": {},
   "source": [
    "## Process X dataset"
   ]
  },
  {
   "cell_type": "code",
   "execution_count": 22,
   "metadata": {},
   "outputs": [],
   "source": [
    "import json\n",
    "\n",
    "# Ouvrir le fichier JSON\n",
    "with open('../dataset/boundingBox/train/afrobeat/afrobeatPose.json') as json_file:\n",
    "  \n",
    "  # Charger les données du JSON\n",
    "  data = json.load(json_file)\n",
    "  \n",
    "# Ouvrir le fichier texte en écriture\n",
    "with open('../dataset/finalDataset/X_train.txt', 'w') as txt_file:\n",
    "\n",
    "  # Parcourir chaque élément des données\n",
    "  for item in data:\n",
    "    \n",
    "    # Extraire les keypoints\n",
    "    keypoints = item['keypoints']\n",
    "    \n",
    "    # Convertir la liste en chaine sans crochets\n",
    "    keypoints_str = str(keypoints).replace(\"[\",\"\").replace(\"]\",\"\")  \n",
    "    \n",
    "    # Convertir en string et écrire\n",
    "    txt_file.write(keypoints_str)\n",
    "    # txt_file.write(str(keypoints))  \n",
    "    \n",
    "    # Saut de ligne\n",
    "    txt_file.write('\\n')"
   ]
  },
  {
   "cell_type": "code",
   "execution_count": 24,
   "metadata": {},
   "outputs": [],
   "source": [
    "# Add classical data\n",
    "\n",
    "# Ouvrir le fichier JSON\n",
    "with open('../dataset/boundingBox/train/classical/classicalPose.json') as json_file:\n",
    "\n",
    "  # Charger les données du JSON  \n",
    "  data = json.load(json_file)\n",
    "  \n",
    "# Ouvrir le fichier texte en écriture Append\n",
    "with open('../dataset/finalDataset/X_train.txt', 'a') as txt_file:\n",
    "\n",
    "  # Parcourir chaque élément des données\n",
    "  for item in data:\n",
    "\n",
    "    # Extraire les keypoints\n",
    "    keypoints = item['keypoints']\n",
    "    \n",
    "    # Convertir la liste en chaine\n",
    "    keypoints_str = str(keypoints).replace(\"[\",\"\").replace(\"]\",\"\")   \n",
    "\n",
    "    # Ecrire les nouvelles données à la fin du fichier\n",
    "    txt_file.write(keypoints_str)\n",
    "\n",
    "    # Saut de ligne  \n",
    "    txt_file.write('\\n')"
   ]
  },
  {
   "cell_type": "code",
   "execution_count": 25,
   "metadata": {},
   "outputs": [],
   "source": [
    "# Add hiphop data\n",
    "\n",
    "# Ouvrir le fichier JSON\n",
    "with open('../dataset/boundingBox/train/hiphop/hiphopPose.json') as json_file:\n",
    "\n",
    "  # Charger les données du JSON  \n",
    "  data = json.load(json_file)\n",
    "  \n",
    "# Ouvrir le fichier texte en écriture Append\n",
    "with open('../dataset/finalDataset/X_train.txt', 'a') as txt_file:\n",
    "\n",
    "  # Parcourir chaque élément des données\n",
    "  for item in data:\n",
    "\n",
    "    # Extraire les keypoints\n",
    "    keypoints = item['keypoints']\n",
    "    \n",
    "    # Convertir la liste en chaine\n",
    "    keypoints_str = str(keypoints).replace(\"[\",\"\").replace(\"]\",\"\")   \n",
    "\n",
    "    # Ecrire les nouvelles données à la fin du fichier\n",
    "    txt_file.write(keypoints_str)\n",
    "\n",
    "    # Saut de ligne  \n",
    "    txt_file.write('\\n')"
   ]
  },
  {
   "cell_type": "markdown",
   "metadata": {},
   "source": [
    "## Process Y dataset\n",
    "\n",
    "I will have:\n",
    "1 -> afrobeat\n",
    "2 -> classical\n",
    "3 -> hiphop"
   ]
  },
  {
   "cell_type": "code",
   "execution_count": 23,
   "metadata": {},
   "outputs": [],
   "source": [
    "import json\n",
    "\n",
    "# Ouvrir le fichier JSON\n",
    "with open('../dataset/boundingBox/train/afrobeat/afrobeatPose.json') as json_file:\n",
    "  \n",
    "  # Charger les données du JSON\n",
    "  data = json.load(json_file)\n",
    "  \n",
    "# Ouvrir le fichier texte en écriture\n",
    "with open('../dataset/finalDataset/Y_train.txt', 'w') as txt_file:\n",
    "\n",
    "  # Parcourir chaque élément des données\n",
    "  for item in data:\n",
    "    \n",
    "    number = 1\n",
    "    \n",
    "    # Convertir en string et écrire\n",
    "    txt_file.write(str(number))\n",
    "    # txt_file.write(str(keypoints))  \n",
    "    \n",
    "    # Saut de ligne\n",
    "    txt_file.write('\\n')"
   ]
  },
  {
   "cell_type": "code",
   "execution_count": 26,
   "metadata": {},
   "outputs": [],
   "source": [
    "import json\n",
    "\n",
    "# Ouvrir le fichier JSON\n",
    "with open('../dataset/boundingBox/train/classical/classicalPose.json') as json_file:\n",
    "  \n",
    "  # Charger les données du JSON\n",
    "  data = json.load(json_file)\n",
    "  \n",
    "# Ouvrir le fichier texte en écriture\n",
    "with open('../dataset/finalDataset/Y_train.txt', 'a') as txt_file:\n",
    "\n",
    "  # Parcourir chaque élément des données\n",
    "  for item in data:\n",
    "    \n",
    "    number = 2\n",
    "    \n",
    "    # Convertir en string et écrire\n",
    "    txt_file.write(str(number))\n",
    "    # txt_file.write(str(keypoints))  \n",
    "    \n",
    "    # Saut de ligne\n",
    "    txt_file.write('\\n')"
   ]
  },
  {
   "cell_type": "code",
   "execution_count": 21,
   "metadata": {},
   "outputs": [],
   "source": [
    "\n",
    "# Ouvrir le fichier JSON\n",
    "with open('../dataset/boundingBox/train/hiphop/hiphopPose.json') as json_file:\n",
    "  \n",
    "  # Charger les données du JSON\n",
    "  data = json.load(json_file)\n",
    "  \n",
    "# Ouvrir le fichier texte en écriture\n",
    "with open('../dataset/finalDataset/Y_train.txt', 'a') as txt_file:\n",
    "\n",
    "  # Parcourir chaque élément des données\n",
    "  for item in data:\n",
    "    \n",
    "    number = 3\n",
    "    \n",
    "    # Convertir en string et écrire\n",
    "    txt_file.write(str(number))\n",
    "    # txt_file.write(str(keypoints))  \n",
    "    \n",
    "    # Saut de ligne\n",
    "    txt_file.write('\\n')"
   ]
  },
  {
   "cell_type": "code",
   "execution_count": 2,
   "metadata": {},
   "outputs": [],
   "source": [
    "# Process 2\n",
    "\n",
    "# Ouvrir le fichier texte en écriture\n",
    "with open('../dataset/finalData/Y_train.txt', 'a') as txt_file:\n",
    "\n",
    "  # Parcourir chaque élément des données\n",
    "  for item in range(1, 351):\n",
    "    \n",
    "    number = 3\n",
    "    \n",
    "    # Convertir en string et écrire\n",
    "    txt_file.write(str(number))\n",
    "    # txt_file.write(str(keypoints))  \n",
    "    \n",
    "    # Saut de ligne\n",
    "    txt_file.write('\\n')"
   ]
  },
  {
   "cell_type": "code",
   "execution_count": 12,
   "metadata": {},
   "outputs": [],
   "source": [
    "# Process 2\n",
    "\n",
    "# Ouvrir le fichier texte en écriture\n",
    "with open('../dataset/finalData/Y_test.txt', 'a') as txt_file:\n",
    "\n",
    "  # Parcourir chaque élément des données\n",
    "  for item in range(1, 44):\n",
    "    \n",
    "    number = 3\n",
    "    \n",
    "    # Convertir en string et écrire\n",
    "    txt_file.write(str(number))\n",
    "    # txt_file.write(str(keypoints))  \n",
    "    \n",
    "    # Saut de ligne\n",
    "    txt_file.write('\\n')"
   ]
  }
 ],
 "metadata": {
  "kernelspec": {
   "display_name": "danceDowngrade",
   "language": "python",
   "name": "python3"
  },
  "language_info": {
   "codemirror_mode": {
    "name": "ipython",
    "version": 3
   },
   "file_extension": ".py",
   "mimetype": "text/x-python",
   "name": "python",
   "nbconvert_exporter": "python",
   "pygments_lexer": "ipython3",
   "version": "3.8.18"
  }
 },
 "nbformat": 4,
 "nbformat_minor": 2
}
