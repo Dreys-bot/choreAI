{
 "cells": [
  {
   "cell_type": "markdown",
   "metadata": {},
   "source": [
    "# Import modules"
   ]
  },
  {
   "cell_type": "code",
   "execution_count": 7,
   "metadata": {},
   "outputs": [],
   "source": [
    "# !pip install tensorflow==1.15.0 --user\n",
    "# !pip install -U scikit-learn\n",
    "# !pip install tensorflow==1.15.5\n",
    "# !pip3 uninstall https://storage.googleapis.com/tensorflow/mac/cpu/tensorflow-1.14.0-py3-none-any.whl\n",
    "# !pip install protobuf==3.20. --user\n",
    "# !pip install --upgrade pip"
   ]
  },
  {
   "cell_type": "code",
   "execution_count": 8,
   "metadata": {},
   "outputs": [],
   "source": [
    "import numpy as np\n",
    "import matplotlib\n",
    "import matplotlib.pyplot as plt\n",
    "import tensorflow as tf  # Version 1.0.0 (some previous versions are used in past commits)\n",
    "# import tensorflow.compat.v1 as tf\n",
    "#tf.disable_v2_behavior()\n",
    "from sklearn import metrics\n",
    "import random\n",
    "from random import randint\n",
    "import time\n",
    "import os"
   ]
  },
  {
   "cell_type": "code",
   "execution_count": 9,
   "metadata": {},
   "outputs": [
    {
     "name": "stdout",
     "output_type": "stream",
     "text": [
      "1.15.0\n"
     ]
    }
   ],
   "source": [
    "print(tf.__version__)"
   ]
  },
  {
   "cell_type": "markdown",
   "metadata": {},
   "source": [
    "# Load Dataset\n",
    "\n",
    "The dataset is the 2D pose estimation of each style dance (afrobeat, classical, hiphop)"
   ]
  },
  {
   "cell_type": "code",
   "execution_count": 10,
   "metadata": {},
   "outputs": [
    {
     "name": "stdout",
     "output_type": "stream",
     "text": [
      "292.1815490722656, 379.946533203125, 0.9460499882698059, 297.94085693359375, 377.06689453125, 0.9179264903068542, 289.3019104003906, 377.06689453125, 0.9363464117050171, 306.5798034667969, 385.7058410644531, 0.9603666067123413, 283.5426025390625, 385.7058410644531, 0.9461781978607178, 318.098388671875, 417.3819580078125, 0.902792751789093, 272.0240173339844, 417.3819580078125, 0.8979045748710632, 329.61700439453125, 457.6970520019531, 0.8250201940536499, 263.38507080078125, 454.8174133300781, 0.9007256031036377, 323.8576965332031, 483.6138916015625, 0.8793278932571411, 254.74612426757812, 489.3731994628906, 0.9100959897041321, 318.098388671875, 483.6138916015625, 0.7959131598472595, 283.5426025390625, 486.4935302734375, 0.8071305155754089, 338.25592041015625, 552.7254638671875, 0.848315954208374, 295.06121826171875, 558.4847412109375, 0.888094425201416, 341.1355895996094, 627.5963134765625, 0.898045003414154, 300.82049560546875, 630.4760131835938, 0.8943094611167908\n",
      "\n",
      "9\n",
      "164.67237854003906, 372.5235900878906, 0.9106605648994446, 171.3487548828125, 365.8471984863281, 0.912397563457489, 157.99600219726562, 365.8471984863281, 0.9214502573013306, 178.02513122558594, 369.1853942871094, 0.8969100117683411, 147.98143005371094, 369.1853942871094, 0.9122831225395203, 191.37789916992188, 399.2290954589844, 0.9174932837486267, 134.62867736816406, 399.2290954589844, 0.8962028622627258, 198.0542755126953, 449.30194091796875, 0.8849868774414062, 121.27591705322266, 449.30194091796875, 0.9225770235061646, 201.3924560546875, 492.6983947753906, 0.8902291059494019, 114.59953308105469, 489.3602294921875, 0.9058478474617004, 178.02513122558594, 489.3602294921875, 0.7759624719619751, 137.96685791015625, 489.3602294921875, 0.7870063781738281, 178.02513122558594, 562.8003540039062, 0.8701665997505188, 131.2904815673828, 562.8003540039062, 0.8378409147262573, 184.70150756835938, 629.5641479492188, 0.8515300154685974, 127.9522933959961, 632.90234375, 0.8674273490905762\n",
      "\n",
      "8\n"
     ]
    }
   ],
   "source": [
    "#Print some data \n",
    "\n",
    "with open('../dataset/finalData/X_train.txt') as f:\n",
    "  for i, line in enumerate(f):\n",
    "    if i < 2:\n",
    "      print(line)\n",
    "      print(line[50])\n",
    "      # print(len(line))"
   ]
  },
  {
   "cell_type": "code",
   "execution_count": 11,
   "metadata": {},
   "outputs": [
    {
     "name": "stdout",
     "output_type": "stream",
     "text": [
      "51\n",
      "51\n"
     ]
    }
   ],
   "source": [
    "with open('../dataset/finalDataset/X_train.txt') as f:\n",
    "  for i, line in enumerate(f):\n",
    "    if i < 2:  \n",
    "      numbers = line.split(',')\n",
    "      print(len(numbers))"
   ]
  },
  {
   "cell_type": "markdown",
   "metadata": {},
   "source": [
    "# Data path"
   ]
  },
  {
   "cell_type": "code",
   "execution_count": 12,
   "metadata": {},
   "outputs": [],
   "source": [
    "# Useful Constants\n",
    "\n",
    "# Output classes to learn how to classify\n",
    "LABELS = [    \n",
    "    \"afrobeat\",\n",
    "    \"classical\",\n",
    "    \"hiphop\"\n",
    "] \n",
    "DATASET_PATH = \"../dataset/finalData copy/\"\n",
    "\n",
    "X_train_path = DATASET_PATH + \"X_train.txt\"\n",
    "X_test_path = DATASET_PATH + \"X_test.txt\"\n",
    "\n",
    "y_train_path = DATASET_PATH + \"Y_train.txt\"\n",
    "y_test_path = DATASET_PATH + \"Y_test.txt\"\n",
    "\n",
    "n_steps = 100 # 32 timesteps per series"
   ]
  },
  {
   "cell_type": "markdown",
   "metadata": {},
   "source": [
    "# Load the network input"
   ]
  },
  {
   "cell_type": "code",
   "execution_count": 13,
   "metadata": {},
   "outputs": [
    {
     "name": "stdout",
     "output_type": "stream",
     "text": [
      "X [[292.18155    379.94653      0.94605    ... 300.8205     630.476\n",
      "    0.89430946]\n",
      " [164.67238    372.5236       0.91066056 ... 127.95229    632.90234\n",
      "    0.86742735]\n",
      " [292.27213    380.3854       0.94750464 ... 300.88342    630.11273\n",
      "    0.89574   ]\n",
      " ...\n",
      " [183.6464     145.66808      0.8539027  ... 127.67552    556.1212\n",
      "    0.7943124 ]\n",
      " [205.23262    151.65273      0.9118062  ... 147.11537    442.239\n",
      "    0.6875173 ]\n",
      " [387.73175    247.9892       0.8160939  ... 359.49902    487.9674\n",
      "    0.63919216]]\n",
      "blocks 849\n",
      "X [[[2.9218155e+02 3.7994653e+02 9.4604999e-01 ... 3.0082050e+02\n",
      "   6.3047601e+02 8.9430946e-01]\n",
      "  [1.6467238e+02 3.7252359e+02 9.1066056e-01 ... 1.2795229e+02\n",
      "   6.3290234e+02 8.6742735e-01]\n",
      "  [2.9227213e+02 3.8038541e+02 9.4750464e-01 ... 3.0088342e+02\n",
      "   6.3011273e+02 8.9573997e-01]\n",
      "  ...\n",
      "  [1.3575566e+02 3.5115054e+02 9.3025529e-01 ... 5.3104065e+01\n",
      "   6.2885992e+02 8.3033192e-01]\n",
      "  [2.5638632e+02 3.8962808e+02 9.4590068e-01 ... 2.0220776e+02\n",
      "   6.3200580e+02 8.0724430e-01]\n",
      "  [1.2351268e+02 3.4848224e+02 9.1950524e-01 ... 3.6507484e+01\n",
      "   6.3849957e+02 7.8960019e-01]]\n",
      "\n",
      " [[2.5424103e+02 3.8748865e+02 9.5477325e-01 ... 2.1068425e+02\n",
      "   6.2160632e+02 7.9225922e-01]\n",
      "  [1.1845075e+02 3.4149072e+02 9.3781948e-01 ... 4.3499779e+01\n",
      "   6.4149091e+02 8.7050658e-01]\n",
      "  [2.5777042e+02 3.8064877e+02 9.1851133e-01 ... 2.0661409e+02\n",
      "   6.3074640e+02 8.2390493e-01]\n",
      "  ...\n",
      "  [1.6760039e+02 3.6457022e+02 9.6284127e-01 ... 1.3837613e+02\n",
      "   6.1460004e+02 7.6891577e-01]\n",
      "  [3.2920181e+02 3.7373535e+02 9.4759649e-01 ... 3.3263544e+02\n",
      "   6.1752405e+02 4.3665871e-01]\n",
      "  [1.6762256e+02 3.6723239e+02 9.5669764e-01 ... 1.7086288e+02\n",
      "   6.1673700e+02 6.9724381e-01]]\n",
      "\n",
      " [[3.3184479e+02 3.6056268e+02 9.4071472e-01 ... 3.2841913e+02\n",
      "   6.2091266e+02 8.1535059e-01]\n",
      "  [3.2207629e+02 3.4887695e+02 9.6634936e-01 ... 2.9603552e+02\n",
      "   6.3207031e+02 8.6019659e-01]\n",
      "  [1.7070642e+02 3.7755905e+02 9.3437970e-01 ... 1.2980496e+02\n",
      "   6.3555292e+02 8.8707042e-01]\n",
      "  ...\n",
      "  [3.5705319e+02 3.2769763e+02 9.3941009e-01 ... 3.1882639e+02\n",
      "   6.3698718e+02 8.8108915e-01]\n",
      "  [1.7768834e+02 3.5470285e+02 9.6191257e-01 ... 8.4687820e+01\n",
      "   6.4403778e+02 8.2278371e-01]\n",
      "  [3.5744543e+02 3.2607010e+02 9.7103471e-01 ... 3.1787302e+02\n",
      "   6.3905200e+02 8.5875720e-01]]\n",
      "\n",
      " ...\n",
      "\n",
      " [[1.9193422e+02 1.4692461e+02 8.7655360e-01 ... 1.3614667e+02\n",
      "   6.6140985e+02 8.1452668e-01]\n",
      "  [4.0463669e+02 2.9316772e+02 8.6396211e-01 ... 3.9260126e+02\n",
      "   6.4219543e+02 8.1213099e-01]\n",
      "  [1.9220445e+02 1.4710243e+02 9.4810814e-01 ... 1.4103862e+02\n",
      "   6.6515662e+02 7.6649576e-01]\n",
      "  ...\n",
      "  [1.4620834e+02 3.9989963e+02 9.2489916e-01 ... 5.0411392e+01\n",
      "   7.0939752e+02 8.2761395e-01]\n",
      "  [3.1338657e+02 3.2013647e+02 9.1802591e-01 ... 2.3358995e+02\n",
      "   7.1911957e+02 8.4128815e-01]\n",
      "  [1.3647632e+02 3.9504120e+02 8.7264615e-01 ... 5.0771133e+01\n",
      "   7.0059882e+02 7.6531380e-01]]\n",
      "\n",
      " [[1.4244290e+02 3.9778275e+02 9.1734588e-01 ... 4.9486111e+01\n",
      "   7.0639929e+02 8.2221496e-01]\n",
      "  [3.1706662e+02 3.1781339e+02 9.0758699e-01 ... 2.3654781e+02\n",
      "   7.2040753e+02 8.1465900e-01]\n",
      "  [3.3393762e+02 3.1591425e+02 9.3807656e-01 ... 2.3021407e+02\n",
      "   7.2586920e+02 8.3968413e-01]\n",
      "  ...\n",
      "  [3.3562555e+02 2.8317023e+02 9.2259270e-01 ... 3.0443130e+02\n",
      "   7.1469061e+02 8.3092606e-01]\n",
      "  [1.7418970e+02 3.6023059e+02 9.2351949e-01 ... 1.1416932e+02\n",
      "   7.1177850e+02 8.5055178e-01]\n",
      "  [3.4125131e+02 2.7667651e+02 9.5516664e-01 ... 3.0359006e+02\n",
      "   7.1785114e+02 8.3158755e-01]]\n",
      "\n",
      " [[1.8132352e+02 3.6145679e+02 9.0906525e-01 ... 1.1198340e+02\n",
      "   7.1249115e+02 8.7099588e-01]\n",
      "  [3.4473175e+02 2.7190137e+02 9.4747055e-01 ... 3.0081924e+02\n",
      "   7.2200464e+02 8.3916599e-01]\n",
      "  [3.5223642e+02 2.7386865e+02 9.5713592e-01 ... 2.9819208e+02\n",
      "   7.2243677e+02 8.5441875e-01]\n",
      "  ...\n",
      "  [1.8364639e+02 1.4566808e+02 8.5390270e-01 ... 1.2767552e+02\n",
      "   5.5612122e+02 7.9431242e-01]\n",
      "  [2.0523262e+02 1.5165273e+02 9.1180623e-01 ... 1.4711537e+02\n",
      "   4.4223901e+02 6.8751729e-01]\n",
      "  [3.8773175e+02 2.4798920e+02 8.1609392e-01 ... 3.5949902e+02\n",
      "   4.8796741e+02 6.3919216e-01]]]\n",
      "X [[292.63803    383.12427      0.9457422  ... 298.37436    629.78674\n",
      "    0.8891631 ]\n",
      " [167.87315    375.4343       0.91312665 ... 131.09915    632.8523\n",
      "    0.8549255 ]\n",
      " [292.485      380.6289       0.94794685 ... 298.20627    629.50476\n",
      "    0.88036335]\n",
      " ...\n",
      " [692.66046    212.00446      0.95290625 ... 525.1677     663.7273\n",
      "    0.8358657 ]\n",
      " [685.56464    301.05383      0.9498844  ... 466.04993    679.36646\n",
      "    0.8905182 ]\n",
      " [686.7119     232.61713      0.92547655 ... 642.0962     683.73175\n",
      "    0.8392344 ]]\n",
      "blocks 330\n",
      "X [[[2.92638031e+02 3.83124268e+02 9.45742190e-01 ... 2.98374359e+02\n",
      "   6.29786743e+02 8.89163077e-01]\n",
      "  [1.67873154e+02 3.75434296e+02 9.13126647e-01 ... 1.31099152e+02\n",
      "   6.32852295e+02 8.54925513e-01]\n",
      "  [2.92484985e+02 3.80628906e+02 9.47946846e-01 ... 2.98206268e+02\n",
      "   6.29504761e+02 8.80363345e-01]\n",
      "  ...\n",
      "  [1.66166428e+02 3.68066284e+02 9.70199347e-01 ... 1.17975647e+02\n",
      "   6.25083801e+02 8.39621305e-01]\n",
      "  [3.18357330e+02 3.60633118e+02 9.63468373e-01 ... 2.80246094e+02\n",
      "   6.24235779e+02 8.50059628e-01]\n",
      "  [1.65615524e+02 3.71486572e+02 9.75603342e-01 ... 9.67957535e+01\n",
      "   6.30380005e+02 8.42679441e-01]]\n",
      "\n",
      " [[3.18846130e+02 3.63409576e+02 9.51516926e-01 ... 2.72188354e+02\n",
      "   6.34024658e+02 8.32209885e-01]\n",
      "  [1.66395386e+02 3.69413025e+02 9.70929086e-01 ... 1.66395386e+02\n",
      "   6.10488525e+02 7.24556684e-01]\n",
      "  [3.26705322e+02 3.72248291e+02 9.04876769e-01 ... 3.33398499e+02\n",
      "   6.19895508e+02 6.49493217e-01]\n",
      "  ...\n",
      "  [3.34657623e+02 3.39664825e+02 9.07811284e-01 ... 3.07355408e+02\n",
      "   6.36576538e+02 8.59724700e-01]\n",
      "  [1.38279709e+02 3.16711884e+02 9.65647399e-01 ... 1.27064301e+02\n",
      "   6.38220215e+02 9.18648660e-01]\n",
      "  [3.31699188e+02 3.37535492e+02 9.65702057e-01 ... 3.21109802e+02\n",
      "   6.34037903e+02 8.67128968e-01]]\n",
      "\n",
      " [[1.30849442e+02 3.16798889e+02 9.67967212e-01 ... 1.07708496e+02\n",
      "   6.36915283e+02 8.42039466e-01]\n",
      "  [3.30669647e+02 3.37035522e+02 9.52566922e-01 ... 3.20456787e+02\n",
      "   6.36613037e+02 8.06849957e-01]\n",
      "  [1.27234558e+02 3.19717560e+02 9.67007041e-01 ... 1.00964394e+02\n",
      "   6.38712463e+02 8.38553369e-01]\n",
      "  ...\n",
      "  [1.87344223e+02 1.47766830e+02 9.50872600e-01 ... 1.17879829e+02\n",
      "   4.79058563e+02 6.82693779e-01]\n",
      "  [4.34498535e+02 9.88904190e+01 9.66241777e-01 ... 4.06361389e+02\n",
      "   5.15319946e+02 6.80650532e-01]\n",
      "  [3.94029160e+01 3.61167725e+02 8.91282976e-01 ... 3.48403397e+01\n",
      "   5.25420593e+02 1.46167919e-01]]\n",
      "\n",
      " ...\n",
      "\n",
      " [[2.04514343e+02 1.79219452e+02 9.08573329e-01 ... 1.67001251e+02\n",
      "   6.40094666e+02 7.15566278e-01]\n",
      "  [2.08966446e+02 1.82964066e+02 5.12389779e-01 ... 2.89738312e+02\n",
      "   1.95528580e+02 6.55241460e-02]\n",
      "  [2.04145554e+02 1.70521011e+02 8.12597334e-01 ... 1.87584457e+02\n",
      "   6.34231628e+02 6.10399604e-01]\n",
      "  ...\n",
      "  [6.98464478e+02 2.52714554e+02 9.48053777e-01 ... 6.45865112e+02\n",
      "   7.06981750e+02 7.96375573e-01]\n",
      "  [7.20964172e+02 2.34646988e+02 9.40604627e-01 ... 6.25465881e+02\n",
      "   6.81981079e+02 8.09802175e-01]\n",
      "  [7.32704346e+02 2.35351746e+02 9.35718954e-01 ... 6.31381531e+02\n",
      "   6.40642944e+02 7.66910076e-01]]\n",
      "\n",
      " [[7.76238342e+02 2.45912354e+02 9.20107186e-01 ... 6.82968567e+02\n",
      "   6.86352844e+02 8.38029683e-01]\n",
      "  [7.77536987e+02 2.37875763e+02 9.21641111e-01 ... 6.83122131e+02\n",
      "   6.83723694e+02 8.18686187e-01]\n",
      "  [6.55268555e+02 2.43420105e+02 8.75645757e-01 ... 6.68346863e+02\n",
      "   6.18332153e+02 8.63532662e-01]\n",
      "  ...\n",
      "  [6.21592224e+02 2.38823120e+02 9.03981268e-01 ... 4.62982544e+02\n",
      "   4.93559845e+02 6.47321403e-01]\n",
      "  [6.11050171e+02 2.52720016e+02 8.87652040e-01 ... 5.59321045e+02\n",
      "   6.47742615e+02 7.34728396e-01]\n",
      "  [6.24828003e+02 2.54103226e+02 8.93138826e-01 ... 4.98297546e+02\n",
      "   5.12030762e+02 7.23958373e-01]]\n",
      "\n",
      " [[6.33042480e+02 2.48707077e+02 9.21509445e-01 ... 5.25217529e+02\n",
      "   5.11237396e+02 5.60201645e-01]\n",
      "  [6.35825684e+02 2.41296478e+02 9.08197939e-01 ... 6.11471924e+02\n",
      "   6.35827332e+02 7.99305320e-01]\n",
      "  [6.18888794e+02 2.59724640e+02 9.83932376e-01 ... 6.23755066e+02\n",
      "   6.58758240e+02 8.58855784e-01]\n",
      "  ...\n",
      "  [6.92660461e+02 2.12004456e+02 9.52906251e-01 ... 5.25167725e+02\n",
      "   6.63727295e+02 8.35865676e-01]\n",
      "  [6.85564636e+02 3.01053833e+02 9.49884415e-01 ... 4.66049927e+02\n",
      "   6.79366455e+02 8.90518188e-01]\n",
      "  [6.86711914e+02 2.32617126e+02 9.25476551e-01 ... 6.42096191e+02\n",
      "   6.83731750e+02 8.39234412e-01]]]\n"
     ]
    }
   ],
   "source": [
    "# Load the networks inputs\n",
    "\n",
    "def load_X(X_path):\n",
    "    file = open(X_path, 'r')\n",
    "    X_ = np.array(\n",
    "        [elem for elem in [\n",
    "            row.split(',') for row in file\n",
    "        ]], \n",
    "        dtype=np.float32\n",
    "    )\n",
    "    print(\"X\", X_)\n",
    "    file.close()\n",
    "    blocks = int(len(X_) / n_steps)\n",
    "    print(\"blocks\", blocks)\n",
    "    X_ = np.array(np.split(X_,blocks))\n",
    "    print(\"X\", X_)  \n",
    "    \n",
    "    return X_ \n",
    "\n",
    "# Load the networks outputs\n",
    "\n",
    "def load_y(y_path):\n",
    "    file = open(y_path, 'r')\n",
    "    y_ = np.array(\n",
    "        [elem for elem in [\n",
    "            row.replace('  ', ' ').strip().split(' ') for row in file\n",
    "        ]], \n",
    "        dtype=np.int32\n",
    "    )\n",
    "    file.close()\n",
    "    \n",
    "    # for 0-based indexing \n",
    "    return y_ - 1\n",
    "\n",
    "X_train = load_X(X_train_path)\n",
    "\n",
    "X_test = load_X(X_test_path)\n",
    "#print X_test\n",
    "\n",
    "y_train = load_y(y_train_path)\n",
    "y_test = load_y(y_test_path)\n",
    "# proof that it actually works for the skeptical: replace labelled classes with random classes to train on\n",
    "#for i in range(len(y_train)):\n",
    "#    y_train[i] = randint(0, 5)"
   ]
  },
  {
   "cell_type": "code",
   "execution_count": 14,
   "metadata": {},
   "outputs": [
    {
     "data": {
      "text/plain": [
       "array([[1.2676989e+02, 5.5230908e+02, 5.7944212e-02, ..., 1.2374192e+02,\n",
       "        5.6240234e+02, 2.6035857e-01],\n",
       "       [1.6508830e+02, 5.4948492e+02, 1.2958640e-01, ..., 1.6166934e+02,\n",
       "        5.6240106e+02, 3.5576195e-01],\n",
       "       [1.9373764e+02, 3.1335846e+02, 9.4944257e-01, ..., 2.5120230e+02,\n",
       "        6.3132965e+02, 6.0596377e-01],\n",
       "       ...,\n",
       "       [1.7827586e+02, 2.0335963e+02, 9.2329198e-01, ..., 1.4417892e+02,\n",
       "        6.4174890e+02, 8.2314640e-01],\n",
       "       [2.3359465e+02, 5.5028198e+02, 3.3229497e-01, ..., 2.3214360e+02,\n",
       "        5.6203546e+02, 1.6806658e-01],\n",
       "       [1.8606282e+02, 2.2380943e+02, 9.4765216e-01, ..., 1.4155562e+02,\n",
       "        6.2931946e+02, 7.8295380e-01]], dtype=float32)"
      ]
     },
     "execution_count": 14,
     "metadata": {},
     "output_type": "execute_result"
    }
   ],
   "source": [
    "X_test[43]"
   ]
  },
  {
   "cell_type": "code",
   "execution_count": 15,
   "metadata": {},
   "outputs": [
    {
     "name": "stdout",
     "output_type": "stream",
     "text": [
      "X_train size 849\n",
      "X_test size 330\n",
      "X_train size 849\n",
      "X_test size 330\n"
     ]
    }
   ],
   "source": [
    "print(\"X_train size\", len(X_train))\n",
    "print(\"X_test size\", len(X_test))\n",
    "print(\"X_train size\", len(y_train))\n",
    "print(\"X_test size\", len(y_test))"
   ]
  },
  {
   "cell_type": "markdown",
   "metadata": {},
   "source": [
    "# Set parameters"
   ]
  },
  {
   "cell_type": "code",
   "execution_count": 16,
   "metadata": {},
   "outputs": [
    {
     "name": "stdout",
     "output_type": "stream",
     "text": [
      "(X shape, y shape, every X's mean, every X's standard deviation)\n",
      "(849, 100, 51) (330, 1) 269.5301 266.96814\n",
      "\n",
      "The dataset has not been preprocessed, is not normalised etc\n"
     ]
    }
   ],
   "source": [
    "# Input data\n",
    "\n",
    "training_data_count = len(X_train) #1050 training series\n",
    "test_data_count = len(X_test) #129 test series\n",
    "n_input = len(X_train[0][0]) #num input parameters per timestep\n",
    "\n",
    "n_hidden = 60 # Hidden layer num of features\n",
    "n_classes = 3\n",
    "\n",
    "#updated for learning rate decay\n",
    "#calculated as:  decayed_learning_rate = learning_rate * decay_rate ^ (global_step / decay_steps)\n",
    "decaying_learning_rate = True\n",
    "learning_rate = 0.000000005 #used if decaying_learning_rate set to False\n",
    "init_learning_rate = 0.0005\n",
    "decay_rate = 0.96 #the base of the exponential in the decay\n",
    "decay_steps = 100000 #used in decay every 60000 steps with a base of 0.96\n",
    "\n",
    "global_step = tf.Variable(0, trainable=False)\n",
    "lambda_loss_amount = 0.0015\n",
    "\n",
    "training_iters = training_data_count *200  # Loop 300 times on the dataset, ie 300 epochs\n",
    "batch_size = 512\n",
    "display_iter = batch_size*8  # To show test set accuracy during training\n",
    "\n",
    "print(\"(X shape, y shape, every X's mean, every X's standard deviation)\")\n",
    "print(X_train.shape, y_test.shape, np.mean(X_test), np.std(X_test))\n",
    "print(\"\\nThe dataset has not been preprocessed, is not normalised etc\")\n",
    "     \n"
   ]
  },
  {
   "cell_type": "code",
   "execution_count": 17,
   "metadata": {},
   "outputs": [
    {
     "data": {
      "text/plain": [
       "array([[1.2676989e+02, 5.5230908e+02, 5.7944212e-02, ..., 1.2374192e+02,\n",
       "        5.6240234e+02, 2.6035857e-01],\n",
       "       [1.6508830e+02, 5.4948492e+02, 1.2958640e-01, ..., 1.6166934e+02,\n",
       "        5.6240106e+02, 3.5576195e-01],\n",
       "       [1.9373764e+02, 3.1335846e+02, 9.4944257e-01, ..., 2.5120230e+02,\n",
       "        6.3132965e+02, 6.0596377e-01],\n",
       "       ...,\n",
       "       [1.7827586e+02, 2.0335963e+02, 9.2329198e-01, ..., 1.4417892e+02,\n",
       "        6.4174890e+02, 8.2314640e-01],\n",
       "       [2.3359465e+02, 5.5028198e+02, 3.3229497e-01, ..., 2.3214360e+02,\n",
       "        5.6203546e+02, 1.6806658e-01],\n",
       "       [1.8606282e+02, 2.2380943e+02, 9.4765216e-01, ..., 1.4155562e+02,\n",
       "        6.2931946e+02, 7.8295380e-01]], dtype=float32)"
      ]
     },
     "execution_count": 17,
     "metadata": {},
     "output_type": "execute_result"
    }
   ],
   "source": [
    "X_test[43]"
   ]
  },
  {
   "cell_type": "markdown",
   "metadata": {},
   "source": [
    "# Utility functions for training"
   ]
  },
  {
   "cell_type": "code",
   "execution_count": 18,
   "metadata": {},
   "outputs": [],
   "source": [
    "import tensorflow as tf\n",
    "\n",
    "def LSTM_RNN(_X, _weights, _biases):\n",
    "    # model architecture based on \"guillaume-chevalier\" and \"aymericdamien\" under the MIT license.\n",
    "\n",
    "    _X = tf.transpose(_X, [1, 0, 2])  # permute n_steps and batch_size\n",
    "    _X = tf.reshape(_X, [-1, n_input])   \n",
    "    # Rectifies Linear Unit activation function used\n",
    "    _X = tf.nn.relu(tf.matmul(_X, _weights['hidden']) + _biases['hidden'])\n",
    "    # Split data because rnn cell needs a list of inputs for the RNN inner loop\n",
    "    _X = tf.split(_X, n_steps, 0) \n",
    "\n",
    "    # Define two stacked LSTM cells (two recurrent layers deep) with tensorflow\n",
    "    lstm_cell_1 = tf.compat.v1.nn.rnn_cell.BasicLSTMCell(n_hidden, forget_bias=1.0, state_is_tuple=True)\n",
    "    lstm_cell_2 = tf.compat.v1.nn.rnn_cell.BasicLSTMCell(n_hidden, forget_bias=1.0, state_is_tuple=True)\n",
    "    lstm_cells = tf.compat.v1.nn.rnn_cell.MultiRNNCell([lstm_cell_1, lstm_cell_2], state_is_tuple=True)\n",
    "    outputs, states = tf.compat.v1.nn.static_rnn(lstm_cells, _X, dtype=tf.float32)\n",
    "\n",
    "    # A single output is produced, in style of \"many to one\" classifier, refer to http://karpathy.github.io/2015/05/21/rnn-effectiveness/ for details\n",
    "    lstm_last_output = outputs[-1]\n",
    "    \n",
    "    # Linear activation\n",
    "    return tf.matmul(lstm_last_output, _weights['out']) + _biases['out']\n",
    "\n",
    "\n",
    "def extract_batch_size(_train, _labels, _unsampled, batch_size):\n",
    "    # Fetch a \"batch_size\" amount of data and labels from \"(X|y)_train\" data. \n",
    "    # Elements of each batch are chosen randomly, without replacement, from X_train with corresponding label from Y_train\n",
    "    # unsampled_indices keeps track of sampled data ensuring non-replacement. Resets when remaining datapoints < batch_size    \n",
    "    \n",
    "    shape = list(_train.shape)\n",
    "    shape[0] = batch_size\n",
    "    batch_s = np.empty(shape)\n",
    "    batch_labels = np.empty((batch_size,1)) \n",
    "\n",
    "    for i in range(batch_size):\n",
    "        # Loop index\n",
    "        # index = random sample from _unsampled (indices)\n",
    "        index = random.choice(_unsampled)\n",
    "        batch_s[i] = _train[index] \n",
    "        batch_labels[i] = _labels[index]\n",
    "        _unsampled.remove(index)\n",
    "\n",
    "\n",
    "    return batch_s, batch_labels, _unsampled\n",
    "\n",
    "\n",
    "def one_hot(y_):\n",
    "    # One hot encoding of the network outputs\n",
    "    # e.g.: [[5], [0], [3]] --> [[0, 0, 0, 0, 0, 1], [1, 0, 0, 0, 0, 0], [0, 0, 0, 1, 0, 0]]\n",
    "    \n",
    "    y_ = y_.reshape(len(y_))\n",
    "    n_values = int(np.max(y_)) + 1\n",
    "    return np.eye(n_values)[np.array(y_, dtype=np.int32)]  # Returns FLOATS\n"
   ]
  },
  {
   "cell_type": "markdown",
   "metadata": {},
   "source": [
    "# Build the network"
   ]
  },
  {
   "cell_type": "code",
   "execution_count": 19,
   "metadata": {},
   "outputs": [],
   "source": [
    "# import tensorflow.compat.v1 as tf\n",
    "# # tf.disable_v2_behavior()\n",
    "# # tf.compat.v1.disable_v2_behavior()\n",
    "# tf.compat.v1.disable_eager_execution()"
   ]
  },
  {
   "cell_type": "code",
   "execution_count": 20,
   "metadata": {},
   "outputs": [
    {
     "name": "stdout",
     "output_type": "stream",
     "text": [
      "WARNING:tensorflow:From <ipython-input-18-efbceb4c1a3b>:14: BasicLSTMCell.__init__ (from tensorflow.python.ops.rnn_cell_impl) is deprecated and will be removed in a future version.\n",
      "Instructions for updating:\n",
      "This class is equivalent as tf.keras.layers.LSTMCell, and will be replaced by that in Tensorflow 2.0.\n",
      "WARNING:tensorflow:From <ipython-input-18-efbceb4c1a3b>:16: MultiRNNCell.__init__ (from tensorflow.python.ops.rnn_cell_impl) is deprecated and will be removed in a future version.\n",
      "Instructions for updating:\n",
      "This class is equivalent as tf.keras.layers.StackedRNNCells, and will be replaced by that in Tensorflow 2.0.\n",
      "WARNING:tensorflow:From <ipython-input-18-efbceb4c1a3b>:17: static_rnn (from tensorflow.python.ops.rnn) is deprecated and will be removed in a future version.\n",
      "Instructions for updating:\n",
      "Please use `keras.layers.RNN(cell, unroll=True)`, which is equivalent to this API\n",
      "WARNING:tensorflow:From d:\\anaconda\\envs\\danceDowgrade36\\lib\\site-packages\\tensorflow_core\\python\\ops\\rnn_cell_impl.py:735: Layer.add_variable (from tensorflow.python.keras.engine.base_layer) is deprecated and will be removed in a future version.\n",
      "Instructions for updating:\n",
      "Please use `layer.add_weight` method instead.\n",
      "WARNING:tensorflow:From d:\\anaconda\\envs\\danceDowgrade36\\lib\\site-packages\\tensorflow_core\\python\\ops\\rnn_cell_impl.py:739: calling Zeros.__init__ (from tensorflow.python.ops.init_ops) with dtype is deprecated and will be removed in a future version.\n",
      "Instructions for updating:\n",
      "Call initializer instance with the dtype argument instead of passing it to the constructor\n"
     ]
    },
    {
     "ename": "KeyboardInterrupt",
     "evalue": "",
     "output_type": "error",
     "traceback": [
      "\u001b[1;31m---------------------------------------------------------------------------\u001b[0m",
      "\u001b[1;31mKeyboardInterrupt\u001b[0m                         Traceback (most recent call last)",
      "\u001b[1;32m<ipython-input-20-a6b1b31e4256>\u001b[0m in \u001b[0;36m<module>\u001b[1;34m\u001b[0m\n\u001b[0;32m     13\u001b[0m }\n\u001b[0;32m     14\u001b[0m \u001b[1;33m\u001b[0m\u001b[0m\n\u001b[1;32m---> 15\u001b[1;33m \u001b[0mpred\u001b[0m \u001b[1;33m=\u001b[0m \u001b[0mLSTM_RNN\u001b[0m\u001b[1;33m(\u001b[0m\u001b[0mx\u001b[0m\u001b[1;33m,\u001b[0m \u001b[0mweights\u001b[0m\u001b[1;33m,\u001b[0m \u001b[0mbiases\u001b[0m\u001b[1;33m)\u001b[0m\u001b[1;33m\u001b[0m\u001b[1;33m\u001b[0m\u001b[0m\n\u001b[0m\u001b[0;32m     16\u001b[0m \u001b[1;33m\u001b[0m\u001b[0m\n\u001b[0;32m     17\u001b[0m \u001b[1;31m# Loss, optimizer and evaluation\u001b[0m\u001b[1;33m\u001b[0m\u001b[1;33m\u001b[0m\u001b[1;33m\u001b[0m\u001b[0m\n",
      "\u001b[1;32m<ipython-input-18-efbceb4c1a3b>\u001b[0m in \u001b[0;36mLSTM_RNN\u001b[1;34m(_X, _weights, _biases)\u001b[0m\n\u001b[0;32m     15\u001b[0m     \u001b[0mlstm_cell_2\u001b[0m \u001b[1;33m=\u001b[0m \u001b[0mtf\u001b[0m\u001b[1;33m.\u001b[0m\u001b[0mcompat\u001b[0m\u001b[1;33m.\u001b[0m\u001b[0mv1\u001b[0m\u001b[1;33m.\u001b[0m\u001b[0mnn\u001b[0m\u001b[1;33m.\u001b[0m\u001b[0mrnn_cell\u001b[0m\u001b[1;33m.\u001b[0m\u001b[0mBasicLSTMCell\u001b[0m\u001b[1;33m(\u001b[0m\u001b[0mn_hidden\u001b[0m\u001b[1;33m,\u001b[0m \u001b[0mforget_bias\u001b[0m\u001b[1;33m=\u001b[0m\u001b[1;36m1.0\u001b[0m\u001b[1;33m,\u001b[0m \u001b[0mstate_is_tuple\u001b[0m\u001b[1;33m=\u001b[0m\u001b[1;32mTrue\u001b[0m\u001b[1;33m)\u001b[0m\u001b[1;33m\u001b[0m\u001b[1;33m\u001b[0m\u001b[0m\n\u001b[0;32m     16\u001b[0m     \u001b[0mlstm_cells\u001b[0m \u001b[1;33m=\u001b[0m \u001b[0mtf\u001b[0m\u001b[1;33m.\u001b[0m\u001b[0mcompat\u001b[0m\u001b[1;33m.\u001b[0m\u001b[0mv1\u001b[0m\u001b[1;33m.\u001b[0m\u001b[0mnn\u001b[0m\u001b[1;33m.\u001b[0m\u001b[0mrnn_cell\u001b[0m\u001b[1;33m.\u001b[0m\u001b[0mMultiRNNCell\u001b[0m\u001b[1;33m(\u001b[0m\u001b[1;33m[\u001b[0m\u001b[0mlstm_cell_1\u001b[0m\u001b[1;33m,\u001b[0m \u001b[0mlstm_cell_2\u001b[0m\u001b[1;33m]\u001b[0m\u001b[1;33m,\u001b[0m \u001b[0mstate_is_tuple\u001b[0m\u001b[1;33m=\u001b[0m\u001b[1;32mTrue\u001b[0m\u001b[1;33m)\u001b[0m\u001b[1;33m\u001b[0m\u001b[1;33m\u001b[0m\u001b[0m\n\u001b[1;32m---> 17\u001b[1;33m     \u001b[0moutputs\u001b[0m\u001b[1;33m,\u001b[0m \u001b[0mstates\u001b[0m \u001b[1;33m=\u001b[0m \u001b[0mtf\u001b[0m\u001b[1;33m.\u001b[0m\u001b[0mcompat\u001b[0m\u001b[1;33m.\u001b[0m\u001b[0mv1\u001b[0m\u001b[1;33m.\u001b[0m\u001b[0mnn\u001b[0m\u001b[1;33m.\u001b[0m\u001b[0mstatic_rnn\u001b[0m\u001b[1;33m(\u001b[0m\u001b[0mlstm_cells\u001b[0m\u001b[1;33m,\u001b[0m \u001b[0m_X\u001b[0m\u001b[1;33m,\u001b[0m \u001b[0mdtype\u001b[0m\u001b[1;33m=\u001b[0m\u001b[0mtf\u001b[0m\u001b[1;33m.\u001b[0m\u001b[0mfloat32\u001b[0m\u001b[1;33m)\u001b[0m\u001b[1;33m\u001b[0m\u001b[1;33m\u001b[0m\u001b[0m\n\u001b[0m\u001b[0;32m     18\u001b[0m \u001b[1;33m\u001b[0m\u001b[0m\n\u001b[0;32m     19\u001b[0m     \u001b[1;31m# A single output is produced, in style of \"many to one\" classifier, refer to http://karpathy.github.io/2015/05/21/rnn-effectiveness/ for details\u001b[0m\u001b[1;33m\u001b[0m\u001b[1;33m\u001b[0m\u001b[1;33m\u001b[0m\u001b[0m\n",
      "\u001b[1;32md:\\anaconda\\envs\\danceDowgrade36\\lib\\site-packages\\tensorflow_core\\python\\util\\deprecation.py\u001b[0m in \u001b[0;36mnew_func\u001b[1;34m(*args, **kwargs)\u001b[0m\n\u001b[0;32m    322\u001b[0m               \u001b[1;34m'in a future version'\u001b[0m \u001b[1;32mif\u001b[0m \u001b[0mdate\u001b[0m \u001b[1;32mis\u001b[0m \u001b[1;32mNone\u001b[0m \u001b[1;32melse\u001b[0m \u001b[1;33m(\u001b[0m\u001b[1;34m'after %s'\u001b[0m \u001b[1;33m%\u001b[0m \u001b[0mdate\u001b[0m\u001b[1;33m)\u001b[0m\u001b[1;33m,\u001b[0m\u001b[1;33m\u001b[0m\u001b[1;33m\u001b[0m\u001b[0m\n\u001b[0;32m    323\u001b[0m               instructions)\n\u001b[1;32m--> 324\u001b[1;33m       \u001b[1;32mreturn\u001b[0m \u001b[0mfunc\u001b[0m\u001b[1;33m(\u001b[0m\u001b[1;33m*\u001b[0m\u001b[0margs\u001b[0m\u001b[1;33m,\u001b[0m \u001b[1;33m**\u001b[0m\u001b[0mkwargs\u001b[0m\u001b[1;33m)\u001b[0m\u001b[1;33m\u001b[0m\u001b[1;33m\u001b[0m\u001b[0m\n\u001b[0m\u001b[0;32m    325\u001b[0m     return tf_decorator.make_decorator(\n\u001b[0;32m    326\u001b[0m         \u001b[0mfunc\u001b[0m\u001b[1;33m,\u001b[0m \u001b[0mnew_func\u001b[0m\u001b[1;33m,\u001b[0m \u001b[1;34m'deprecated'\u001b[0m\u001b[1;33m,\u001b[0m\u001b[1;33m\u001b[0m\u001b[1;33m\u001b[0m\u001b[0m\n",
      "\u001b[1;32md:\\anaconda\\envs\\danceDowgrade36\\lib\\site-packages\\tensorflow_core\\python\\ops\\rnn.py\u001b[0m in \u001b[0;36mstatic_rnn\u001b[1;34m(cell, inputs, initial_state, dtype, sequence_length, scope)\u001b[0m\n\u001b[0;32m   1436\u001b[0m             state_size=cell.state_size)\n\u001b[0;32m   1437\u001b[0m       \u001b[1;32melse\u001b[0m\u001b[1;33m:\u001b[0m\u001b[1;33m\u001b[0m\u001b[1;33m\u001b[0m\u001b[0m\n\u001b[1;32m-> 1438\u001b[1;33m         \u001b[1;33m(\u001b[0m\u001b[0moutput\u001b[0m\u001b[1;33m,\u001b[0m \u001b[0mstate\u001b[0m\u001b[1;33m)\u001b[0m \u001b[1;33m=\u001b[0m \u001b[0mcall_cell\u001b[0m\u001b[1;33m(\u001b[0m\u001b[1;33m)\u001b[0m\u001b[1;33m\u001b[0m\u001b[1;33m\u001b[0m\u001b[0m\n\u001b[0m\u001b[0;32m   1439\u001b[0m       \u001b[0moutputs\u001b[0m\u001b[1;33m.\u001b[0m\u001b[0mappend\u001b[0m\u001b[1;33m(\u001b[0m\u001b[0moutput\u001b[0m\u001b[1;33m)\u001b[0m\u001b[1;33m\u001b[0m\u001b[1;33m\u001b[0m\u001b[0m\n\u001b[0;32m   1440\u001b[0m     \u001b[1;31m# Keras RNN cells only return state as list, even if it's a single tensor.\u001b[0m\u001b[1;33m\u001b[0m\u001b[1;33m\u001b[0m\u001b[1;33m\u001b[0m\u001b[0m\n",
      "\u001b[1;32md:\\anaconda\\envs\\danceDowgrade36\\lib\\site-packages\\tensorflow_core\\python\\ops\\rnn.py\u001b[0m in \u001b[0;36m<lambda>\u001b[1;34m()\u001b[0m\n\u001b[0;32m   1423\u001b[0m         \u001b[0mvarscope\u001b[0m\u001b[1;33m.\u001b[0m\u001b[0mreuse_variables\u001b[0m\u001b[1;33m(\u001b[0m\u001b[1;33m)\u001b[0m\u001b[1;33m\u001b[0m\u001b[1;33m\u001b[0m\u001b[0m\n\u001b[0;32m   1424\u001b[0m       \u001b[1;31m# pylint: disable=cell-var-from-loop\u001b[0m\u001b[1;33m\u001b[0m\u001b[1;33m\u001b[0m\u001b[1;33m\u001b[0m\u001b[0m\n\u001b[1;32m-> 1425\u001b[1;33m       \u001b[0mcall_cell\u001b[0m \u001b[1;33m=\u001b[0m \u001b[1;32mlambda\u001b[0m\u001b[1;33m:\u001b[0m \u001b[0mcell\u001b[0m\u001b[1;33m(\u001b[0m\u001b[0minput_\u001b[0m\u001b[1;33m,\u001b[0m \u001b[0mstate\u001b[0m\u001b[1;33m)\u001b[0m\u001b[1;33m\u001b[0m\u001b[1;33m\u001b[0m\u001b[0m\n\u001b[0m\u001b[0;32m   1426\u001b[0m       \u001b[1;31m# pylint: enable=cell-var-from-loop\u001b[0m\u001b[1;33m\u001b[0m\u001b[1;33m\u001b[0m\u001b[1;33m\u001b[0m\u001b[0m\n\u001b[0;32m   1427\u001b[0m       \u001b[1;32mif\u001b[0m \u001b[0msequence_length\u001b[0m \u001b[1;32mis\u001b[0m \u001b[1;32mnot\u001b[0m \u001b[1;32mNone\u001b[0m\u001b[1;33m:\u001b[0m\u001b[1;33m\u001b[0m\u001b[1;33m\u001b[0m\u001b[0m\n",
      "\u001b[1;32md:\\anaconda\\envs\\danceDowgrade36\\lib\\site-packages\\tensorflow_core\\python\\ops\\rnn_cell_impl.py\u001b[0m in \u001b[0;36m__call__\u001b[1;34m(self, inputs, state, scope)\u001b[0m\n\u001b[0;32m    242\u001b[0m         \u001b[0msetattr\u001b[0m\u001b[1;33m(\u001b[0m\u001b[0mself\u001b[0m\u001b[1;33m,\u001b[0m \u001b[0mscope_attrname\u001b[0m\u001b[1;33m,\u001b[0m \u001b[0mscope\u001b[0m\u001b[1;33m)\u001b[0m\u001b[1;33m\u001b[0m\u001b[1;33m\u001b[0m\u001b[0m\n\u001b[0;32m    243\u001b[0m       \u001b[1;32mwith\u001b[0m \u001b[0mscope\u001b[0m\u001b[1;33m:\u001b[0m\u001b[1;33m\u001b[0m\u001b[1;33m\u001b[0m\u001b[0m\n\u001b[1;32m--> 244\u001b[1;33m         \u001b[1;32mreturn\u001b[0m \u001b[0msuper\u001b[0m\u001b[1;33m(\u001b[0m\u001b[0mRNNCell\u001b[0m\u001b[1;33m,\u001b[0m \u001b[0mself\u001b[0m\u001b[1;33m)\u001b[0m\u001b[1;33m.\u001b[0m\u001b[0m__call__\u001b[0m\u001b[1;33m(\u001b[0m\u001b[0minputs\u001b[0m\u001b[1;33m,\u001b[0m \u001b[0mstate\u001b[0m\u001b[1;33m)\u001b[0m\u001b[1;33m\u001b[0m\u001b[1;33m\u001b[0m\u001b[0m\n\u001b[0m\u001b[0;32m    245\u001b[0m \u001b[1;33m\u001b[0m\u001b[0m\n\u001b[0;32m    246\u001b[0m   \u001b[1;32mdef\u001b[0m \u001b[0m_rnn_get_variable\u001b[0m\u001b[1;33m(\u001b[0m\u001b[0mself\u001b[0m\u001b[1;33m,\u001b[0m \u001b[0mgetter\u001b[0m\u001b[1;33m,\u001b[0m \u001b[1;33m*\u001b[0m\u001b[0margs\u001b[0m\u001b[1;33m,\u001b[0m \u001b[1;33m**\u001b[0m\u001b[0mkwargs\u001b[0m\u001b[1;33m)\u001b[0m\u001b[1;33m:\u001b[0m\u001b[1;33m\u001b[0m\u001b[1;33m\u001b[0m\u001b[0m\n",
      "\u001b[1;32md:\\anaconda\\envs\\danceDowgrade36\\lib\\site-packages\\tensorflow_core\\python\\layers\\base.py\u001b[0m in \u001b[0;36m__call__\u001b[1;34m(self, inputs, *args, **kwargs)\u001b[0m\n\u001b[0;32m    546\u001b[0m \u001b[1;33m\u001b[0m\u001b[0m\n\u001b[0;32m    547\u001b[0m       \u001b[1;31m# Actually call layer\u001b[0m\u001b[1;33m\u001b[0m\u001b[1;33m\u001b[0m\u001b[1;33m\u001b[0m\u001b[0m\n\u001b[1;32m--> 548\u001b[1;33m       \u001b[0moutputs\u001b[0m \u001b[1;33m=\u001b[0m \u001b[0msuper\u001b[0m\u001b[1;33m(\u001b[0m\u001b[0mLayer\u001b[0m\u001b[1;33m,\u001b[0m \u001b[0mself\u001b[0m\u001b[1;33m)\u001b[0m\u001b[1;33m.\u001b[0m\u001b[0m__call__\u001b[0m\u001b[1;33m(\u001b[0m\u001b[0minputs\u001b[0m\u001b[1;33m,\u001b[0m \u001b[1;33m*\u001b[0m\u001b[0margs\u001b[0m\u001b[1;33m,\u001b[0m \u001b[1;33m**\u001b[0m\u001b[0mkwargs\u001b[0m\u001b[1;33m)\u001b[0m\u001b[1;33m\u001b[0m\u001b[1;33m\u001b[0m\u001b[0m\n\u001b[0m\u001b[0;32m    549\u001b[0m \u001b[1;33m\u001b[0m\u001b[0m\n\u001b[0;32m    550\u001b[0m     \u001b[1;32mif\u001b[0m \u001b[1;32mnot\u001b[0m \u001b[0mcontext\u001b[0m\u001b[1;33m.\u001b[0m\u001b[0mexecuting_eagerly\u001b[0m\u001b[1;33m(\u001b[0m\u001b[1;33m)\u001b[0m\u001b[1;33m:\u001b[0m\u001b[1;33m\u001b[0m\u001b[1;33m\u001b[0m\u001b[0m\n",
      "\u001b[1;32md:\\anaconda\\envs\\danceDowgrade36\\lib\\site-packages\\tensorflow_core\\python\\keras\\engine\\base_layer.py\u001b[0m in \u001b[0;36m__call__\u001b[1;34m(self, inputs, *args, **kwargs)\u001b[0m\n\u001b[0;32m    852\u001b[0m                     \u001b[0moutputs\u001b[0m \u001b[1;33m=\u001b[0m \u001b[0mbase_layer_utils\u001b[0m\u001b[1;33m.\u001b[0m\u001b[0mmark_as_return\u001b[0m\u001b[1;33m(\u001b[0m\u001b[0moutputs\u001b[0m\u001b[1;33m,\u001b[0m \u001b[0macd\u001b[0m\u001b[1;33m)\u001b[0m\u001b[1;33m\u001b[0m\u001b[1;33m\u001b[0m\u001b[0m\n\u001b[0;32m    853\u001b[0m                 \u001b[1;32melse\u001b[0m\u001b[1;33m:\u001b[0m\u001b[1;33m\u001b[0m\u001b[1;33m\u001b[0m\u001b[0m\n\u001b[1;32m--> 854\u001b[1;33m                   \u001b[0moutputs\u001b[0m \u001b[1;33m=\u001b[0m \u001b[0mcall_fn\u001b[0m\u001b[1;33m(\u001b[0m\u001b[0mcast_inputs\u001b[0m\u001b[1;33m,\u001b[0m \u001b[1;33m*\u001b[0m\u001b[0margs\u001b[0m\u001b[1;33m,\u001b[0m \u001b[1;33m**\u001b[0m\u001b[0mkwargs\u001b[0m\u001b[1;33m)\u001b[0m\u001b[1;33m\u001b[0m\u001b[1;33m\u001b[0m\u001b[0m\n\u001b[0m\u001b[0;32m    855\u001b[0m \u001b[1;33m\u001b[0m\u001b[0m\n\u001b[0;32m    856\u001b[0m             \u001b[1;32mexcept\u001b[0m \u001b[0merrors\u001b[0m\u001b[1;33m.\u001b[0m\u001b[0mOperatorNotAllowedInGraphError\u001b[0m \u001b[1;32mas\u001b[0m \u001b[0me\u001b[0m\u001b[1;33m:\u001b[0m\u001b[1;33m\u001b[0m\u001b[1;33m\u001b[0m\u001b[0m\n",
      "\u001b[1;32md:\\anaconda\\envs\\danceDowgrade36\\lib\\site-packages\\tensorflow_core\\python\\autograph\\impl\\api.py\u001b[0m in \u001b[0;36mwrapper\u001b[1;34m(*args, **kwargs)\u001b[0m\n\u001b[0;32m    232\u001b[0m           optional_features=optional_features)\n\u001b[0;32m    233\u001b[0m       \u001b[1;32mtry\u001b[0m\u001b[1;33m:\u001b[0m\u001b[1;33m\u001b[0m\u001b[1;33m\u001b[0m\u001b[0m\n\u001b[1;32m--> 234\u001b[1;33m         \u001b[1;32mreturn\u001b[0m \u001b[0mconverted_call\u001b[0m\u001b[1;33m(\u001b[0m\u001b[0mf\u001b[0m\u001b[1;33m,\u001b[0m \u001b[0moptions\u001b[0m\u001b[1;33m,\u001b[0m \u001b[0margs\u001b[0m\u001b[1;33m,\u001b[0m \u001b[0mkwargs\u001b[0m\u001b[1;33m)\u001b[0m\u001b[1;33m\u001b[0m\u001b[1;33m\u001b[0m\u001b[0m\n\u001b[0m\u001b[0;32m    235\u001b[0m       \u001b[1;32mexcept\u001b[0m \u001b[0mException\u001b[0m \u001b[1;32mas\u001b[0m \u001b[0me\u001b[0m\u001b[1;33m:\u001b[0m  \u001b[1;31m# pylint:disable=broad-except\u001b[0m\u001b[1;33m\u001b[0m\u001b[1;33m\u001b[0m\u001b[0m\n\u001b[0;32m    236\u001b[0m         \u001b[1;32mif\u001b[0m \u001b[0mhasattr\u001b[0m\u001b[1;33m(\u001b[0m\u001b[0me\u001b[0m\u001b[1;33m,\u001b[0m \u001b[1;34m'ag_error_metadata'\u001b[0m\u001b[1;33m)\u001b[0m\u001b[1;33m:\u001b[0m\u001b[1;33m\u001b[0m\u001b[1;33m\u001b[0m\u001b[0m\n",
      "\u001b[1;32md:\\anaconda\\envs\\danceDowgrade36\\lib\\site-packages\\tensorflow_core\\python\\autograph\\impl\\api.py\u001b[0m in \u001b[0;36mconverted_call\u001b[1;34m(f, options, args, kwargs, caller_fn_scope)\u001b[0m\n\u001b[0;32m    437\u001b[0m \u001b[1;33m\u001b[0m\u001b[0m\n\u001b[0;32m    438\u001b[0m   \u001b[1;32mif\u001b[0m \u001b[1;32mnot\u001b[0m \u001b[0moptions\u001b[0m\u001b[1;33m.\u001b[0m\u001b[0muser_requested\u001b[0m \u001b[1;32mand\u001b[0m \u001b[0mconversion\u001b[0m\u001b[1;33m.\u001b[0m\u001b[0mis_whitelisted_for_graph\u001b[0m\u001b[1;33m(\u001b[0m\u001b[0mf\u001b[0m\u001b[1;33m)\u001b[0m\u001b[1;33m:\u001b[0m\u001b[1;33m\u001b[0m\u001b[1;33m\u001b[0m\u001b[0m\n\u001b[1;32m--> 439\u001b[1;33m     \u001b[1;32mreturn\u001b[0m \u001b[0m_call_unconverted\u001b[0m\u001b[1;33m(\u001b[0m\u001b[0mf\u001b[0m\u001b[1;33m,\u001b[0m \u001b[0margs\u001b[0m\u001b[1;33m,\u001b[0m \u001b[0mkwargs\u001b[0m\u001b[1;33m,\u001b[0m \u001b[0moptions\u001b[0m\u001b[1;33m)\u001b[0m\u001b[1;33m\u001b[0m\u001b[1;33m\u001b[0m\u001b[0m\n\u001b[0m\u001b[0;32m    440\u001b[0m \u001b[1;33m\u001b[0m\u001b[0m\n\u001b[0;32m    441\u001b[0m   \u001b[1;31m# internal_convert_user_code is for example turned off when issuing a dynamic\u001b[0m\u001b[1;33m\u001b[0m\u001b[1;33m\u001b[0m\u001b[1;33m\u001b[0m\u001b[0m\n",
      "\u001b[1;32md:\\anaconda\\envs\\danceDowgrade36\\lib\\site-packages\\tensorflow_core\\python\\autograph\\impl\\api.py\u001b[0m in \u001b[0;36m_call_unconverted\u001b[1;34m(f, args, kwargs, options, update_cache)\u001b[0m\n\u001b[0;32m    328\u001b[0m   \u001b[1;32mtry\u001b[0m\u001b[1;33m:\u001b[0m\u001b[1;33m\u001b[0m\u001b[1;33m\u001b[0m\u001b[0m\n\u001b[0;32m    329\u001b[0m     \u001b[1;32mif\u001b[0m \u001b[0mkwargs\u001b[0m \u001b[1;32mis\u001b[0m \u001b[1;32mnot\u001b[0m \u001b[1;32mNone\u001b[0m\u001b[1;33m:\u001b[0m\u001b[1;33m\u001b[0m\u001b[1;33m\u001b[0m\u001b[0m\n\u001b[1;32m--> 330\u001b[1;33m       \u001b[1;32mreturn\u001b[0m \u001b[0mf\u001b[0m\u001b[1;33m(\u001b[0m\u001b[1;33m*\u001b[0m\u001b[0margs\u001b[0m\u001b[1;33m,\u001b[0m \u001b[1;33m**\u001b[0m\u001b[0mkwargs\u001b[0m\u001b[1;33m)\u001b[0m\u001b[1;33m\u001b[0m\u001b[1;33m\u001b[0m\u001b[0m\n\u001b[0m\u001b[0;32m    331\u001b[0m     \u001b[1;32melse\u001b[0m\u001b[1;33m:\u001b[0m\u001b[1;33m\u001b[0m\u001b[1;33m\u001b[0m\u001b[0m\n\u001b[0;32m    332\u001b[0m       \u001b[1;32mreturn\u001b[0m \u001b[0mf\u001b[0m\u001b[1;33m(\u001b[0m\u001b[1;33m*\u001b[0m\u001b[0margs\u001b[0m\u001b[1;33m)\u001b[0m\u001b[1;33m\u001b[0m\u001b[1;33m\u001b[0m\u001b[0m\n",
      "\u001b[1;32md:\\anaconda\\envs\\danceDowgrade36\\lib\\site-packages\\tensorflow_core\\python\\ops\\rnn_cell_impl.py\u001b[0m in \u001b[0;36mcall\u001b[1;34m(self, inputs, state)\u001b[0m\n\u001b[0;32m   1310\u001b[0m                                       [-1, cell.state_size])\n\u001b[0;32m   1311\u001b[0m           \u001b[0mcur_state_pos\u001b[0m \u001b[1;33m+=\u001b[0m \u001b[0mcell\u001b[0m\u001b[1;33m.\u001b[0m\u001b[0mstate_size\u001b[0m\u001b[1;33m\u001b[0m\u001b[1;33m\u001b[0m\u001b[0m\n\u001b[1;32m-> 1312\u001b[1;33m         \u001b[0mcur_inp\u001b[0m\u001b[1;33m,\u001b[0m \u001b[0mnew_state\u001b[0m \u001b[1;33m=\u001b[0m \u001b[0mcell\u001b[0m\u001b[1;33m(\u001b[0m\u001b[0mcur_inp\u001b[0m\u001b[1;33m,\u001b[0m \u001b[0mcur_state\u001b[0m\u001b[1;33m)\u001b[0m\u001b[1;33m\u001b[0m\u001b[1;33m\u001b[0m\u001b[0m\n\u001b[0m\u001b[0;32m   1313\u001b[0m         \u001b[0mnew_states\u001b[0m\u001b[1;33m.\u001b[0m\u001b[0mappend\u001b[0m\u001b[1;33m(\u001b[0m\u001b[0mnew_state\u001b[0m\u001b[1;33m)\u001b[0m\u001b[1;33m\u001b[0m\u001b[1;33m\u001b[0m\u001b[0m\n\u001b[0;32m   1314\u001b[0m \u001b[1;33m\u001b[0m\u001b[0m\n",
      "\u001b[1;32md:\\anaconda\\envs\\danceDowgrade36\\lib\\site-packages\\tensorflow_core\\python\\ops\\rnn_cell_impl.py\u001b[0m in \u001b[0;36m__call__\u001b[1;34m(self, inputs, state, scope, *args, **kwargs)\u001b[0m\n\u001b[0;32m    384\u001b[0m     \u001b[1;31m# method.  See the class docstring for more details.\u001b[0m\u001b[1;33m\u001b[0m\u001b[1;33m\u001b[0m\u001b[1;33m\u001b[0m\u001b[0m\n\u001b[0;32m    385\u001b[0m     return base_layer.Layer.__call__(\n\u001b[1;32m--> 386\u001b[1;33m         self, inputs, state, scope=scope, *args, **kwargs)\n\u001b[0m\u001b[0;32m    387\u001b[0m \u001b[1;33m\u001b[0m\u001b[0m\n\u001b[0;32m    388\u001b[0m \u001b[1;33m\u001b[0m\u001b[0m\n",
      "\u001b[1;32md:\\anaconda\\envs\\danceDowgrade36\\lib\\site-packages\\tensorflow_core\\python\\layers\\base.py\u001b[0m in \u001b[0;36m__call__\u001b[1;34m(self, inputs, *args, **kwargs)\u001b[0m\n\u001b[0;32m    546\u001b[0m \u001b[1;33m\u001b[0m\u001b[0m\n\u001b[0;32m    547\u001b[0m       \u001b[1;31m# Actually call layer\u001b[0m\u001b[1;33m\u001b[0m\u001b[1;33m\u001b[0m\u001b[1;33m\u001b[0m\u001b[0m\n\u001b[1;32m--> 548\u001b[1;33m       \u001b[0moutputs\u001b[0m \u001b[1;33m=\u001b[0m \u001b[0msuper\u001b[0m\u001b[1;33m(\u001b[0m\u001b[0mLayer\u001b[0m\u001b[1;33m,\u001b[0m \u001b[0mself\u001b[0m\u001b[1;33m)\u001b[0m\u001b[1;33m.\u001b[0m\u001b[0m__call__\u001b[0m\u001b[1;33m(\u001b[0m\u001b[0minputs\u001b[0m\u001b[1;33m,\u001b[0m \u001b[1;33m*\u001b[0m\u001b[0margs\u001b[0m\u001b[1;33m,\u001b[0m \u001b[1;33m**\u001b[0m\u001b[0mkwargs\u001b[0m\u001b[1;33m)\u001b[0m\u001b[1;33m\u001b[0m\u001b[1;33m\u001b[0m\u001b[0m\n\u001b[0m\u001b[0;32m    549\u001b[0m \u001b[1;33m\u001b[0m\u001b[0m\n\u001b[0;32m    550\u001b[0m     \u001b[1;32mif\u001b[0m \u001b[1;32mnot\u001b[0m \u001b[0mcontext\u001b[0m\u001b[1;33m.\u001b[0m\u001b[0mexecuting_eagerly\u001b[0m\u001b[1;33m(\u001b[0m\u001b[1;33m)\u001b[0m\u001b[1;33m:\u001b[0m\u001b[1;33m\u001b[0m\u001b[1;33m\u001b[0m\u001b[0m\n",
      "\u001b[1;32md:\\anaconda\\envs\\danceDowgrade36\\lib\\site-packages\\tensorflow_core\\python\\keras\\engine\\base_layer.py\u001b[0m in \u001b[0;36m__call__\u001b[1;34m(self, inputs, *args, **kwargs)\u001b[0m\n\u001b[0;32m    852\u001b[0m                     \u001b[0moutputs\u001b[0m \u001b[1;33m=\u001b[0m \u001b[0mbase_layer_utils\u001b[0m\u001b[1;33m.\u001b[0m\u001b[0mmark_as_return\u001b[0m\u001b[1;33m(\u001b[0m\u001b[0moutputs\u001b[0m\u001b[1;33m,\u001b[0m \u001b[0macd\u001b[0m\u001b[1;33m)\u001b[0m\u001b[1;33m\u001b[0m\u001b[1;33m\u001b[0m\u001b[0m\n\u001b[0;32m    853\u001b[0m                 \u001b[1;32melse\u001b[0m\u001b[1;33m:\u001b[0m\u001b[1;33m\u001b[0m\u001b[1;33m\u001b[0m\u001b[0m\n\u001b[1;32m--> 854\u001b[1;33m                   \u001b[0moutputs\u001b[0m \u001b[1;33m=\u001b[0m \u001b[0mcall_fn\u001b[0m\u001b[1;33m(\u001b[0m\u001b[0mcast_inputs\u001b[0m\u001b[1;33m,\u001b[0m \u001b[1;33m*\u001b[0m\u001b[0margs\u001b[0m\u001b[1;33m,\u001b[0m \u001b[1;33m**\u001b[0m\u001b[0mkwargs\u001b[0m\u001b[1;33m)\u001b[0m\u001b[1;33m\u001b[0m\u001b[1;33m\u001b[0m\u001b[0m\n\u001b[0m\u001b[0;32m    855\u001b[0m \u001b[1;33m\u001b[0m\u001b[0m\n\u001b[0;32m    856\u001b[0m             \u001b[1;32mexcept\u001b[0m \u001b[0merrors\u001b[0m\u001b[1;33m.\u001b[0m\u001b[0mOperatorNotAllowedInGraphError\u001b[0m \u001b[1;32mas\u001b[0m \u001b[0me\u001b[0m\u001b[1;33m:\u001b[0m\u001b[1;33m\u001b[0m\u001b[1;33m\u001b[0m\u001b[0m\n",
      "\u001b[1;32md:\\anaconda\\envs\\danceDowgrade36\\lib\\site-packages\\tensorflow_core\\python\\autograph\\impl\\api.py\u001b[0m in \u001b[0;36mwrapper\u001b[1;34m(*args, **kwargs)\u001b[0m\n\u001b[0;32m    232\u001b[0m           optional_features=optional_features)\n\u001b[0;32m    233\u001b[0m       \u001b[1;32mtry\u001b[0m\u001b[1;33m:\u001b[0m\u001b[1;33m\u001b[0m\u001b[1;33m\u001b[0m\u001b[0m\n\u001b[1;32m--> 234\u001b[1;33m         \u001b[1;32mreturn\u001b[0m \u001b[0mconverted_call\u001b[0m\u001b[1;33m(\u001b[0m\u001b[0mf\u001b[0m\u001b[1;33m,\u001b[0m \u001b[0moptions\u001b[0m\u001b[1;33m,\u001b[0m \u001b[0margs\u001b[0m\u001b[1;33m,\u001b[0m \u001b[0mkwargs\u001b[0m\u001b[1;33m)\u001b[0m\u001b[1;33m\u001b[0m\u001b[1;33m\u001b[0m\u001b[0m\n\u001b[0m\u001b[0;32m    235\u001b[0m       \u001b[1;32mexcept\u001b[0m \u001b[0mException\u001b[0m \u001b[1;32mas\u001b[0m \u001b[0me\u001b[0m\u001b[1;33m:\u001b[0m  \u001b[1;31m# pylint:disable=broad-except\u001b[0m\u001b[1;33m\u001b[0m\u001b[1;33m\u001b[0m\u001b[0m\n\u001b[0;32m    236\u001b[0m         \u001b[1;32mif\u001b[0m \u001b[0mhasattr\u001b[0m\u001b[1;33m(\u001b[0m\u001b[0me\u001b[0m\u001b[1;33m,\u001b[0m \u001b[1;34m'ag_error_metadata'\u001b[0m\u001b[1;33m)\u001b[0m\u001b[1;33m:\u001b[0m\u001b[1;33m\u001b[0m\u001b[1;33m\u001b[0m\u001b[0m\n",
      "\u001b[1;32md:\\anaconda\\envs\\danceDowgrade36\\lib\\site-packages\\tensorflow_core\\python\\autograph\\impl\\api.py\u001b[0m in \u001b[0;36mconverted_call\u001b[1;34m(f, options, args, kwargs, caller_fn_scope)\u001b[0m\n\u001b[0;32m    437\u001b[0m \u001b[1;33m\u001b[0m\u001b[0m\n\u001b[0;32m    438\u001b[0m   \u001b[1;32mif\u001b[0m \u001b[1;32mnot\u001b[0m \u001b[0moptions\u001b[0m\u001b[1;33m.\u001b[0m\u001b[0muser_requested\u001b[0m \u001b[1;32mand\u001b[0m \u001b[0mconversion\u001b[0m\u001b[1;33m.\u001b[0m\u001b[0mis_whitelisted_for_graph\u001b[0m\u001b[1;33m(\u001b[0m\u001b[0mf\u001b[0m\u001b[1;33m)\u001b[0m\u001b[1;33m:\u001b[0m\u001b[1;33m\u001b[0m\u001b[1;33m\u001b[0m\u001b[0m\n\u001b[1;32m--> 439\u001b[1;33m     \u001b[1;32mreturn\u001b[0m \u001b[0m_call_unconverted\u001b[0m\u001b[1;33m(\u001b[0m\u001b[0mf\u001b[0m\u001b[1;33m,\u001b[0m \u001b[0margs\u001b[0m\u001b[1;33m,\u001b[0m \u001b[0mkwargs\u001b[0m\u001b[1;33m,\u001b[0m \u001b[0moptions\u001b[0m\u001b[1;33m)\u001b[0m\u001b[1;33m\u001b[0m\u001b[1;33m\u001b[0m\u001b[0m\n\u001b[0m\u001b[0;32m    440\u001b[0m \u001b[1;33m\u001b[0m\u001b[0m\n\u001b[0;32m    441\u001b[0m   \u001b[1;31m# internal_convert_user_code is for example turned off when issuing a dynamic\u001b[0m\u001b[1;33m\u001b[0m\u001b[1;33m\u001b[0m\u001b[1;33m\u001b[0m\u001b[0m\n",
      "\u001b[1;32md:\\anaconda\\envs\\danceDowgrade36\\lib\\site-packages\\tensorflow_core\\python\\autograph\\impl\\api.py\u001b[0m in \u001b[0;36m_call_unconverted\u001b[1;34m(f, args, kwargs, options, update_cache)\u001b[0m\n\u001b[0;32m    328\u001b[0m   \u001b[1;32mtry\u001b[0m\u001b[1;33m:\u001b[0m\u001b[1;33m\u001b[0m\u001b[1;33m\u001b[0m\u001b[0m\n\u001b[0;32m    329\u001b[0m     \u001b[1;32mif\u001b[0m \u001b[0mkwargs\u001b[0m \u001b[1;32mis\u001b[0m \u001b[1;32mnot\u001b[0m \u001b[1;32mNone\u001b[0m\u001b[1;33m:\u001b[0m\u001b[1;33m\u001b[0m\u001b[1;33m\u001b[0m\u001b[0m\n\u001b[1;32m--> 330\u001b[1;33m       \u001b[1;32mreturn\u001b[0m \u001b[0mf\u001b[0m\u001b[1;33m(\u001b[0m\u001b[1;33m*\u001b[0m\u001b[0margs\u001b[0m\u001b[1;33m,\u001b[0m \u001b[1;33m**\u001b[0m\u001b[0mkwargs\u001b[0m\u001b[1;33m)\u001b[0m\u001b[1;33m\u001b[0m\u001b[1;33m\u001b[0m\u001b[0m\n\u001b[0m\u001b[0;32m    331\u001b[0m     \u001b[1;32melse\u001b[0m\u001b[1;33m:\u001b[0m\u001b[1;33m\u001b[0m\u001b[1;33m\u001b[0m\u001b[0m\n\u001b[0;32m    332\u001b[0m       \u001b[1;32mreturn\u001b[0m \u001b[0mf\u001b[0m\u001b[1;33m(\u001b[0m\u001b[1;33m*\u001b[0m\u001b[0margs\u001b[0m\u001b[1;33m)\u001b[0m\u001b[1;33m\u001b[0m\u001b[1;33m\u001b[0m\u001b[0m\n",
      "\u001b[1;32md:\\anaconda\\envs\\danceDowgrade36\\lib\\site-packages\\tensorflow_core\\python\\ops\\rnn_cell_impl.py\u001b[0m in \u001b[0;36mcall\u001b[1;34m(self, inputs, state)\u001b[0m\n\u001b[0;32m    771\u001b[0m     \u001b[1;31m# i = input_gate, j = new_input, f = forget_gate, o = output_gate\u001b[0m\u001b[1;33m\u001b[0m\u001b[1;33m\u001b[0m\u001b[1;33m\u001b[0m\u001b[0m\n\u001b[0;32m    772\u001b[0m     i, j, f, o = array_ops.split(\n\u001b[1;32m--> 773\u001b[1;33m         value=gate_inputs, num_or_size_splits=4, axis=one)\n\u001b[0m\u001b[0;32m    774\u001b[0m \u001b[1;33m\u001b[0m\u001b[0m\n\u001b[0;32m    775\u001b[0m     \u001b[0mforget_bias_tensor\u001b[0m \u001b[1;33m=\u001b[0m \u001b[0mconstant_op\u001b[0m\u001b[1;33m.\u001b[0m\u001b[0mconstant\u001b[0m\u001b[1;33m(\u001b[0m\u001b[0mself\u001b[0m\u001b[1;33m.\u001b[0m\u001b[0m_forget_bias\u001b[0m\u001b[1;33m,\u001b[0m \u001b[0mdtype\u001b[0m\u001b[1;33m=\u001b[0m\u001b[0mf\u001b[0m\u001b[1;33m.\u001b[0m\u001b[0mdtype\u001b[0m\u001b[1;33m)\u001b[0m\u001b[1;33m\u001b[0m\u001b[1;33m\u001b[0m\u001b[0m\n",
      "\u001b[1;32md:\\anaconda\\envs\\danceDowgrade36\\lib\\site-packages\\tensorflow_core\\python\\ops\\array_ops.py\u001b[0m in \u001b[0;36msplit\u001b[1;34m(value, num_or_size_splits, axis, num, name)\u001b[0m\n\u001b[0;32m   1682\u001b[0m                 six.integer_types + (tensor_shape.Dimension,)):\n\u001b[0;32m   1683\u001b[0m     return gen_array_ops.split(\n\u001b[1;32m-> 1684\u001b[1;33m         axis=axis, num_split=num_or_size_splits, value=value, name=name)\n\u001b[0m\u001b[0;32m   1685\u001b[0m \u001b[1;33m\u001b[0m\u001b[0m\n\u001b[0;32m   1686\u001b[0m   \u001b[1;32mif\u001b[0m \u001b[0msize_splits\u001b[0m\u001b[1;33m.\u001b[0m\u001b[0m_rank\u001b[0m\u001b[1;33m(\u001b[0m\u001b[1;33m)\u001b[0m \u001b[1;33m==\u001b[0m \u001b[1;36m0\u001b[0m\u001b[1;33m:\u001b[0m\u001b[1;33m\u001b[0m\u001b[1;33m\u001b[0m\u001b[0m\n",
      "\u001b[1;32md:\\anaconda\\envs\\danceDowgrade36\\lib\\site-packages\\tensorflow_core\\python\\ops\\gen_array_ops.py\u001b[0m in \u001b[0;36msplit\u001b[1;34m(axis, value, num_split, name)\u001b[0m\n\u001b[0;32m   9896\u001b[0m   \u001b[0mnum_split\u001b[0m \u001b[1;33m=\u001b[0m \u001b[0m_execute\u001b[0m\u001b[1;33m.\u001b[0m\u001b[0mmake_int\u001b[0m\u001b[1;33m(\u001b[0m\u001b[0mnum_split\u001b[0m\u001b[1;33m,\u001b[0m \u001b[1;34m\"num_split\"\u001b[0m\u001b[1;33m)\u001b[0m\u001b[1;33m\u001b[0m\u001b[1;33m\u001b[0m\u001b[0m\n\u001b[0;32m   9897\u001b[0m   _, _, _op = _op_def_lib._apply_op_helper(\n\u001b[1;32m-> 9898\u001b[1;33m         \"Split\", split_dim=axis, value=value, num_split=num_split, name=name)\n\u001b[0m\u001b[0;32m   9899\u001b[0m   \u001b[0m_result\u001b[0m \u001b[1;33m=\u001b[0m \u001b[0m_op\u001b[0m\u001b[1;33m.\u001b[0m\u001b[0moutputs\u001b[0m\u001b[1;33m[\u001b[0m\u001b[1;33m:\u001b[0m\u001b[1;33m]\u001b[0m\u001b[1;33m\u001b[0m\u001b[1;33m\u001b[0m\u001b[0m\n\u001b[0;32m   9900\u001b[0m   \u001b[0m_inputs_flat\u001b[0m \u001b[1;33m=\u001b[0m \u001b[0m_op\u001b[0m\u001b[1;33m.\u001b[0m\u001b[0minputs\u001b[0m\u001b[1;33m\u001b[0m\u001b[1;33m\u001b[0m\u001b[0m\n",
      "\u001b[1;32md:\\anaconda\\envs\\danceDowgrade36\\lib\\site-packages\\tensorflow_core\\python\\framework\\op_def_library.py\u001b[0m in \u001b[0;36m_apply_op_helper\u001b[1;34m(self, op_type_name, name, **keywords)\u001b[0m\n\u001b[0;32m    792\u001b[0m         op = g.create_op(op_type_name, inputs, dtypes=None, name=scope,\n\u001b[0;32m    793\u001b[0m                          \u001b[0minput_types\u001b[0m\u001b[1;33m=\u001b[0m\u001b[0minput_types\u001b[0m\u001b[1;33m,\u001b[0m \u001b[0mattrs\u001b[0m\u001b[1;33m=\u001b[0m\u001b[0mattr_protos\u001b[0m\u001b[1;33m,\u001b[0m\u001b[1;33m\u001b[0m\u001b[1;33m\u001b[0m\u001b[0m\n\u001b[1;32m--> 794\u001b[1;33m                          op_def=op_def)\n\u001b[0m\u001b[0;32m    795\u001b[0m \u001b[1;33m\u001b[0m\u001b[0m\n\u001b[0;32m    796\u001b[0m       \u001b[1;31m# Conditionally invoke tfdbg v2's op callback(s).\u001b[0m\u001b[1;33m\u001b[0m\u001b[1;33m\u001b[0m\u001b[1;33m\u001b[0m\u001b[0m\n",
      "\u001b[1;32md:\\anaconda\\envs\\danceDowgrade36\\lib\\site-packages\\tensorflow_core\\python\\util\\deprecation.py\u001b[0m in \u001b[0;36mnew_func\u001b[1;34m(*args, **kwargs)\u001b[0m\n\u001b[0;32m    505\u001b[0m                 \u001b[1;34m'in a future version'\u001b[0m \u001b[1;32mif\u001b[0m \u001b[0mdate\u001b[0m \u001b[1;32mis\u001b[0m \u001b[1;32mNone\u001b[0m \u001b[1;32melse\u001b[0m \u001b[1;33m(\u001b[0m\u001b[1;34m'after %s'\u001b[0m \u001b[1;33m%\u001b[0m \u001b[0mdate\u001b[0m\u001b[1;33m)\u001b[0m\u001b[1;33m,\u001b[0m\u001b[1;33m\u001b[0m\u001b[1;33m\u001b[0m\u001b[0m\n\u001b[0;32m    506\u001b[0m                 instructions)\n\u001b[1;32m--> 507\u001b[1;33m       \u001b[1;32mreturn\u001b[0m \u001b[0mfunc\u001b[0m\u001b[1;33m(\u001b[0m\u001b[1;33m*\u001b[0m\u001b[0margs\u001b[0m\u001b[1;33m,\u001b[0m \u001b[1;33m**\u001b[0m\u001b[0mkwargs\u001b[0m\u001b[1;33m)\u001b[0m\u001b[1;33m\u001b[0m\u001b[1;33m\u001b[0m\u001b[0m\n\u001b[0m\u001b[0;32m    508\u001b[0m \u001b[1;33m\u001b[0m\u001b[0m\n\u001b[0;32m    509\u001b[0m     doc = _add_deprecated_arg_notice_to_docstring(\n",
      "\u001b[1;32md:\\anaconda\\envs\\danceDowgrade36\\lib\\site-packages\\tensorflow_core\\python\\framework\\ops.py\u001b[0m in \u001b[0;36mcreate_op\u001b[1;34m(***failed resolving arguments***)\u001b[0m\n\u001b[0;32m   3355\u001b[0m         \u001b[1;32mraise\u001b[0m \u001b[0mTypeError\u001b[0m\u001b[1;33m(\u001b[0m\u001b[1;34m\"Input #%d is not a tensor: %s\"\u001b[0m \u001b[1;33m%\u001b[0m \u001b[1;33m(\u001b[0m\u001b[0midx\u001b[0m\u001b[1;33m,\u001b[0m \u001b[0ma\u001b[0m\u001b[1;33m)\u001b[0m\u001b[1;33m)\u001b[0m\u001b[1;33m\u001b[0m\u001b[1;33m\u001b[0m\u001b[0m\n\u001b[0;32m   3356\u001b[0m     return self._create_op_internal(op_type, inputs, dtypes, input_types, name,\n\u001b[1;32m-> 3357\u001b[1;33m                                     attrs, op_def, compute_device)\n\u001b[0m\u001b[0;32m   3358\u001b[0m \u001b[1;33m\u001b[0m\u001b[0m\n\u001b[0;32m   3359\u001b[0m   def _create_op_internal(\n",
      "\u001b[1;32md:\\anaconda\\envs\\danceDowgrade36\\lib\\site-packages\\tensorflow_core\\python\\framework\\ops.py\u001b[0m in \u001b[0;36m_create_op_internal\u001b[1;34m(self, op_type, inputs, dtypes, input_types, name, attrs, op_def, compute_device)\u001b[0m\n\u001b[0;32m   3424\u001b[0m           \u001b[0minput_types\u001b[0m\u001b[1;33m=\u001b[0m\u001b[0minput_types\u001b[0m\u001b[1;33m,\u001b[0m\u001b[1;33m\u001b[0m\u001b[1;33m\u001b[0m\u001b[0m\n\u001b[0;32m   3425\u001b[0m           \u001b[0moriginal_op\u001b[0m\u001b[1;33m=\u001b[0m\u001b[0mself\u001b[0m\u001b[1;33m.\u001b[0m\u001b[0m_default_original_op\u001b[0m\u001b[1;33m,\u001b[0m\u001b[1;33m\u001b[0m\u001b[1;33m\u001b[0m\u001b[0m\n\u001b[1;32m-> 3426\u001b[1;33m           op_def=op_def)\n\u001b[0m\u001b[0;32m   3427\u001b[0m       \u001b[0mself\u001b[0m\u001b[1;33m.\u001b[0m\u001b[0m_create_op_helper\u001b[0m\u001b[1;33m(\u001b[0m\u001b[0mret\u001b[0m\u001b[1;33m,\u001b[0m \u001b[0mcompute_device\u001b[0m\u001b[1;33m=\u001b[0m\u001b[0mcompute_device\u001b[0m\u001b[1;33m)\u001b[0m\u001b[1;33m\u001b[0m\u001b[1;33m\u001b[0m\u001b[0m\n\u001b[0;32m   3428\u001b[0m     \u001b[1;32mreturn\u001b[0m \u001b[0mret\u001b[0m\u001b[1;33m\u001b[0m\u001b[1;33m\u001b[0m\u001b[0m\n",
      "\u001b[1;32md:\\anaconda\\envs\\danceDowgrade36\\lib\\site-packages\\tensorflow_core\\python\\framework\\ops.py\u001b[0m in \u001b[0;36m__init__\u001b[1;34m(self, node_def, g, inputs, output_types, control_inputs, input_types, original_op, op_def)\u001b[0m\n\u001b[0;32m   1768\u001b[0m           op_def, inputs, node_def.attr)\n\u001b[0;32m   1769\u001b[0m       self._c_op = _create_c_op(self._graph, node_def, grouped_inputs,\n\u001b[1;32m-> 1770\u001b[1;33m                                 control_input_ops)\n\u001b[0m\u001b[0;32m   1771\u001b[0m     \u001b[1;31m# pylint: enable=protected-access\u001b[0m\u001b[1;33m\u001b[0m\u001b[1;33m\u001b[0m\u001b[1;33m\u001b[0m\u001b[0m\n\u001b[0;32m   1772\u001b[0m \u001b[1;33m\u001b[0m\u001b[0m\n",
      "\u001b[1;32md:\\anaconda\\envs\\danceDowgrade36\\lib\\site-packages\\tensorflow_core\\python\\framework\\ops.py\u001b[0m in \u001b[0;36m_create_c_op\u001b[1;34m(graph, node_def, inputs, control_inputs)\u001b[0m\n\u001b[0;32m   1590\u001b[0m       \u001b[0mc_api\u001b[0m\u001b[1;33m.\u001b[0m\u001b[0mTF_AddInputList\u001b[0m\u001b[1;33m(\u001b[0m\u001b[0mop_desc\u001b[0m\u001b[1;33m,\u001b[0m \u001b[1;33m[\u001b[0m\u001b[0mt\u001b[0m\u001b[1;33m.\u001b[0m\u001b[0m_as_tf_output\u001b[0m\u001b[1;33m(\u001b[0m\u001b[1;33m)\u001b[0m \u001b[1;32mfor\u001b[0m \u001b[0mt\u001b[0m \u001b[1;32min\u001b[0m \u001b[0mop_input\u001b[0m\u001b[1;33m]\u001b[0m\u001b[1;33m)\u001b[0m\u001b[1;33m\u001b[0m\u001b[1;33m\u001b[0m\u001b[0m\n\u001b[0;32m   1591\u001b[0m     \u001b[1;32melse\u001b[0m\u001b[1;33m:\u001b[0m\u001b[1;33m\u001b[0m\u001b[1;33m\u001b[0m\u001b[0m\n\u001b[1;32m-> 1592\u001b[1;33m       \u001b[0mc_api\u001b[0m\u001b[1;33m.\u001b[0m\u001b[0mTF_AddInput\u001b[0m\u001b[1;33m(\u001b[0m\u001b[0mop_desc\u001b[0m\u001b[1;33m,\u001b[0m \u001b[0mop_input\u001b[0m\u001b[1;33m.\u001b[0m\u001b[0m_as_tf_output\u001b[0m\u001b[1;33m(\u001b[0m\u001b[1;33m)\u001b[0m\u001b[1;33m)\u001b[0m\u001b[1;33m\u001b[0m\u001b[1;33m\u001b[0m\u001b[0m\n\u001b[0m\u001b[0;32m   1593\u001b[0m \u001b[1;33m\u001b[0m\u001b[0m\n\u001b[0;32m   1594\u001b[0m   \u001b[1;31m# Add control inputs\u001b[0m\u001b[1;33m\u001b[0m\u001b[1;33m\u001b[0m\u001b[1;33m\u001b[0m\u001b[0m\n",
      "\u001b[1;31mKeyboardInterrupt\u001b[0m: "
     ]
    }
   ],
   "source": [
    "# Graph input/output\n",
    "x = tf.placeholder(tf.float32, [None, n_steps, n_input])\n",
    "y = tf.placeholder(tf.float32, [None, n_classes])\n",
    "\n",
    "# Graph weights\n",
    "weights = {\n",
    "    'hidden': tf.Variable(tf.random.normal([n_input, n_hidden])), # Hidden layer weights\n",
    "    'out': tf.Variable(tf.random.normal([n_hidden, n_classes], mean=1.0))\n",
    "}\n",
    "biases = {\n",
    "    'hidden': tf.Variable(tf.random.normal([n_hidden])),\n",
    "    'out': tf.Variable(tf.random.normal([n_classes]))\n",
    "}\n",
    "\n",
    "pred = LSTM_RNN(x, weights, biases)\n",
    "\n",
    "# Loss, optimizer and evaluation\n",
    "l2 = lambda_loss_amount * sum(\n",
    "    tf.nn.l2_loss(tf_var) for tf_var in tf.compat.v1.trainable_variables()\n",
    ") # L2 loss prevents this overkill neural network to overfit the data\n",
    "cost = tf.reduce_mean(tf.nn.softmax_cross_entropy_with_logits(labels=y, logits=pred)) + l2 # Softmax loss\n",
    "if decaying_learning_rate:\n",
    "    tf.compat.v1.disable_eager_execution()\n",
    "    learning_rate = tf.compat.v1.train.exponential_decay(init_learning_rate, global_step*batch_size, decay_steps, decay_rate, staircase=True)\n",
    "\n",
    "\n",
    "#decayed_learning_rate = learning_rate * decay_rate ^ (global_step / decay_steps) #exponentially decayed learning rate\n",
    "optimizer = tf.train.AdamOptimizer(learning_rate=learning_rate).minimize(cost,global_step=global_step) # Adam Optimizer\n",
    "\n",
    "correct_pred = tf.equal(tf.argmax(pred,1), tf.argmax(y,1))\n",
    "accuracy = tf.reduce_mean(tf.cast(correct_pred, tf.float32))"
   ]
  },
  {
   "cell_type": "code",
   "execution_count": null,
   "metadata": {},
   "outputs": [
    {
     "ename": "ValueError",
     "evalue": "No variables to save",
     "output_type": "error",
     "traceback": [
      "\u001b[1;31m---------------------------------------------------------------------------\u001b[0m",
      "\u001b[1;31mValueError\u001b[0m                                Traceback (most recent call last)",
      "\u001b[1;32m<ipython-input-6-416a2593f909>\u001b[0m in \u001b[0;36m<module>\u001b[1;34m\u001b[0m\n\u001b[1;32m----> 1\u001b[1;33m \u001b[0msaver\u001b[0m \u001b[1;33m=\u001b[0m \u001b[0mtf\u001b[0m\u001b[1;33m.\u001b[0m\u001b[0mtrain\u001b[0m\u001b[1;33m.\u001b[0m\u001b[0mSaver\u001b[0m\u001b[1;33m(\u001b[0m\u001b[1;33m)\u001b[0m\u001b[1;33m\u001b[0m\u001b[1;33m\u001b[0m\u001b[0m\n\u001b[0m",
      "\u001b[1;32md:\\anaconda\\envs\\danceDowgrade36\\lib\\site-packages\\tensorflow_core\\python\\training\\saver.py\u001b[0m in \u001b[0;36m__init__\u001b[1;34m(self, var_list, reshape, sharded, max_to_keep, keep_checkpoint_every_n_hours, name, restore_sequentially, saver_def, builder, defer_build, allow_empty, write_version, pad_step_number, save_relative_paths, filename)\u001b[0m\n\u001b[0;32m    826\u001b[0m           time.time() + self._keep_checkpoint_every_n_hours * 3600)\n\u001b[0;32m    827\u001b[0m     \u001b[1;32melif\u001b[0m \u001b[1;32mnot\u001b[0m \u001b[0mdefer_build\u001b[0m\u001b[1;33m:\u001b[0m\u001b[1;33m\u001b[0m\u001b[1;33m\u001b[0m\u001b[0m\n\u001b[1;32m--> 828\u001b[1;33m       \u001b[0mself\u001b[0m\u001b[1;33m.\u001b[0m\u001b[0mbuild\u001b[0m\u001b[1;33m(\u001b[0m\u001b[1;33m)\u001b[0m\u001b[1;33m\u001b[0m\u001b[1;33m\u001b[0m\u001b[0m\n\u001b[0m\u001b[0;32m    829\u001b[0m     \u001b[1;32mif\u001b[0m \u001b[0mself\u001b[0m\u001b[1;33m.\u001b[0m\u001b[0msaver_def\u001b[0m\u001b[1;33m:\u001b[0m\u001b[1;33m\u001b[0m\u001b[1;33m\u001b[0m\u001b[0m\n\u001b[0;32m    830\u001b[0m       \u001b[0mself\u001b[0m\u001b[1;33m.\u001b[0m\u001b[0m_check_saver_def\u001b[0m\u001b[1;33m(\u001b[0m\u001b[1;33m)\u001b[0m\u001b[1;33m\u001b[0m\u001b[1;33m\u001b[0m\u001b[0m\n",
      "\u001b[1;32md:\\anaconda\\envs\\danceDowgrade36\\lib\\site-packages\\tensorflow_core\\python\\training\\saver.py\u001b[0m in \u001b[0;36mbuild\u001b[1;34m(self)\u001b[0m\n\u001b[0;32m    838\u001b[0m     \u001b[1;32mif\u001b[0m \u001b[0mcontext\u001b[0m\u001b[1;33m.\u001b[0m\u001b[0mexecuting_eagerly\u001b[0m\u001b[1;33m(\u001b[0m\u001b[1;33m)\u001b[0m\u001b[1;33m:\u001b[0m\u001b[1;33m\u001b[0m\u001b[1;33m\u001b[0m\u001b[0m\n\u001b[0;32m    839\u001b[0m       \u001b[1;32mraise\u001b[0m \u001b[0mRuntimeError\u001b[0m\u001b[1;33m(\u001b[0m\u001b[1;34m\"Use save/restore instead of build in eager mode.\"\u001b[0m\u001b[1;33m)\u001b[0m\u001b[1;33m\u001b[0m\u001b[1;33m\u001b[0m\u001b[0m\n\u001b[1;32m--> 840\u001b[1;33m     \u001b[0mself\u001b[0m\u001b[1;33m.\u001b[0m\u001b[0m_build\u001b[0m\u001b[1;33m(\u001b[0m\u001b[0mself\u001b[0m\u001b[1;33m.\u001b[0m\u001b[0m_filename\u001b[0m\u001b[1;33m,\u001b[0m \u001b[0mbuild_save\u001b[0m\u001b[1;33m=\u001b[0m\u001b[1;32mTrue\u001b[0m\u001b[1;33m,\u001b[0m \u001b[0mbuild_restore\u001b[0m\u001b[1;33m=\u001b[0m\u001b[1;32mTrue\u001b[0m\u001b[1;33m)\u001b[0m\u001b[1;33m\u001b[0m\u001b[1;33m\u001b[0m\u001b[0m\n\u001b[0m\u001b[0;32m    841\u001b[0m \u001b[1;33m\u001b[0m\u001b[0m\n\u001b[0;32m    842\u001b[0m   \u001b[1;32mdef\u001b[0m \u001b[0m_build_eager\u001b[0m\u001b[1;33m(\u001b[0m\u001b[0mself\u001b[0m\u001b[1;33m,\u001b[0m \u001b[0mcheckpoint_path\u001b[0m\u001b[1;33m,\u001b[0m \u001b[0mbuild_save\u001b[0m\u001b[1;33m,\u001b[0m \u001b[0mbuild_restore\u001b[0m\u001b[1;33m)\u001b[0m\u001b[1;33m:\u001b[0m\u001b[1;33m\u001b[0m\u001b[1;33m\u001b[0m\u001b[0m\n",
      "\u001b[1;32md:\\anaconda\\envs\\danceDowgrade36\\lib\\site-packages\\tensorflow_core\\python\\training\\saver.py\u001b[0m in \u001b[0;36m_build\u001b[1;34m(self, checkpoint_path, build_save, build_restore)\u001b[0m\n\u001b[0;32m    863\u001b[0m           \u001b[1;32mreturn\u001b[0m\u001b[1;33m\u001b[0m\u001b[1;33m\u001b[0m\u001b[0m\n\u001b[0;32m    864\u001b[0m         \u001b[1;32melse\u001b[0m\u001b[1;33m:\u001b[0m\u001b[1;33m\u001b[0m\u001b[1;33m\u001b[0m\u001b[0m\n\u001b[1;32m--> 865\u001b[1;33m           \u001b[1;32mraise\u001b[0m \u001b[0mValueError\u001b[0m\u001b[1;33m(\u001b[0m\u001b[1;34m\"No variables to save\"\u001b[0m\u001b[1;33m)\u001b[0m\u001b[1;33m\u001b[0m\u001b[1;33m\u001b[0m\u001b[0m\n\u001b[0m\u001b[0;32m    866\u001b[0m       \u001b[0mself\u001b[0m\u001b[1;33m.\u001b[0m\u001b[0m_is_empty\u001b[0m \u001b[1;33m=\u001b[0m \u001b[1;32mFalse\u001b[0m\u001b[1;33m\u001b[0m\u001b[1;33m\u001b[0m\u001b[0m\n\u001b[0;32m    867\u001b[0m \u001b[1;33m\u001b[0m\u001b[0m\n",
      "\u001b[1;31mValueError\u001b[0m: No variables to save"
     ]
    }
   ],
   "source": [
    "saver = tf.train.Saver()"
   ]
  },
  {
   "cell_type": "code",
   "execution_count": null,
   "metadata": {},
   "outputs": [
    {
     "name": "stdout",
     "output_type": "stream",
     "text": [
      "Device mapping:\n",
      "\n"
     ]
    },
    {
     "name": "stdout",
     "output_type": "stream",
     "text": [
      "Iter #512:  Learning rate = 0.000500:   Batch Loss = 4.907311, Accuracy = 0.3359375\n",
      "PERFORMANCE ON TEST SET:             Batch Loss = 4.48500394821167, Accuracy = 0.3393939435482025\n",
      "Iter #4096:  Learning rate = 0.000500:   Batch Loss = 3.543704, Accuracy = 0.69140625\n",
      "PERFORMANCE ON TEST SET:             Batch Loss = 3.6725025177001953, Accuracy = 0.5878787636756897\n",
      "Iter #8192:  Learning rate = 0.000500:   Batch Loss = 3.349201, Accuracy = 0.771484375\n",
      "PERFORMANCE ON TEST SET:             Batch Loss = 3.600578784942627, Accuracy = 0.699999988079071\n",
      "Iter #12288:  Learning rate = 0.000500:   Batch Loss = 3.284815, Accuracy = 0.76953125\n",
      "PERFORMANCE ON TEST SET:             Batch Loss = 3.510509967803955, Accuracy = 0.7151514887809753\n",
      "Iter #16384:  Learning rate = 0.000500:   Batch Loss = 3.189217, Accuracy = 0.80078125\n",
      "PERFORMANCE ON TEST SET:             Batch Loss = 3.4292373657226562, Accuracy = 0.7272727489471436\n",
      "Iter #20480:  Learning rate = 0.000500:   Batch Loss = 3.140918, Accuracy = 0.814453125\n",
      "PERFORMANCE ON TEST SET:             Batch Loss = 3.3999361991882324, Accuracy = 0.7242424488067627\n",
      "Iter #24576:  Learning rate = 0.000500:   Batch Loss = 3.075899, Accuracy = 0.85546875\n",
      "PERFORMANCE ON TEST SET:             Batch Loss = 3.4300975799560547, Accuracy = 0.7363636493682861\n",
      "Iter #28672:  Learning rate = 0.000500:   Batch Loss = 3.005523, Accuracy = 0.875\n",
      "PERFORMANCE ON TEST SET:             Batch Loss = 3.394117832183838, Accuracy = 0.7515151500701904\n",
      "Iter #32768:  Learning rate = 0.000500:   Batch Loss = 2.960279, Accuracy = 0.892578125\n",
      "PERFORMANCE ON TEST SET:             Batch Loss = 3.486978530883789, Accuracy = 0.7636363506317139\n",
      "Iter #36864:  Learning rate = 0.000500:   Batch Loss = 2.900000, Accuracy = 0.89453125\n",
      "PERFORMANCE ON TEST SET:             Batch Loss = 3.6166648864746094, Accuracy = 0.8090909123420715\n",
      "Iter #40960:  Learning rate = 0.000500:   Batch Loss = 2.805466, Accuracy = 0.931640625\n",
      "PERFORMANCE ON TEST SET:             Batch Loss = 3.6901590824127197, Accuracy = 0.8181818127632141\n",
      "Iter #45056:  Learning rate = 0.000500:   Batch Loss = 2.786941, Accuracy = 0.9375\n",
      "PERFORMANCE ON TEST SET:             Batch Loss = 3.6212453842163086, Accuracy = 0.821212112903595\n",
      "Iter #49152:  Learning rate = 0.000500:   Batch Loss = 2.748530, Accuracy = 0.943359375\n",
      "PERFORMANCE ON TEST SET:             Batch Loss = 3.4267616271972656, Accuracy = 0.8363636136054993\n",
      "Iter #53248:  Learning rate = 0.000500:   Batch Loss = 2.722476, Accuracy = 0.94140625\n",
      "PERFORMANCE ON TEST SET:             Batch Loss = 3.3506722450256348, Accuracy = 0.8303030133247375\n",
      "Iter #57344:  Learning rate = 0.000500:   Batch Loss = 2.675731, Accuracy = 0.95703125\n",
      "PERFORMANCE ON TEST SET:             Batch Loss = 3.399074077606201, Accuracy = 0.8303030133247375\n",
      "Iter #61440:  Learning rate = 0.000500:   Batch Loss = 2.674208, Accuracy = 0.958984375\n",
      "PERFORMANCE ON TEST SET:             Batch Loss = 3.3525707721710205, Accuracy = 0.8242424130439758\n",
      "Iter #65536:  Learning rate = 0.000500:   Batch Loss = 2.644249, Accuracy = 0.958984375\n",
      "PERFORMANCE ON TEST SET:             Batch Loss = 3.287745475769043, Accuracy = 0.842424213886261\n",
      "Iter #69632:  Learning rate = 0.000500:   Batch Loss = 2.629398, Accuracy = 0.96484375\n",
      "PERFORMANCE ON TEST SET:             Batch Loss = 3.239443778991699, Accuracy = 0.842424213886261\n",
      "Iter #73728:  Learning rate = 0.000500:   Batch Loss = 2.618515, Accuracy = 0.970703125\n",
      "PERFORMANCE ON TEST SET:             Batch Loss = 3.2835357189178467, Accuracy = 0.842424213886261\n",
      "Iter #77824:  Learning rate = 0.000500:   Batch Loss = 2.590125, Accuracy = 0.96875\n",
      "PERFORMANCE ON TEST SET:             Batch Loss = 3.2974867820739746, Accuracy = 0.8393939137458801\n",
      "Iter #81920:  Learning rate = 0.000500:   Batch Loss = 2.591822, Accuracy = 0.970703125\n",
      "PERFORMANCE ON TEST SET:             Batch Loss = 3.328148126602173, Accuracy = 0.8303030133247375\n",
      "Iter #86016:  Learning rate = 0.000500:   Batch Loss = 2.568931, Accuracy = 0.970703125\n",
      "PERFORMANCE ON TEST SET:             Batch Loss = 3.307671308517456, Accuracy = 0.8303030133247375\n",
      "Iter #90112:  Learning rate = 0.000500:   Batch Loss = 2.559958, Accuracy = 0.966796875\n",
      "PERFORMANCE ON TEST SET:             Batch Loss = 3.2718427181243896, Accuracy = 0.8333333134651184\n",
      "Iter #94208:  Learning rate = 0.000500:   Batch Loss = 2.545636, Accuracy = 0.96484375\n",
      "PERFORMANCE ON TEST SET:             Batch Loss = 3.2110018730163574, Accuracy = 0.8454545736312866\n",
      "Iter #98304:  Learning rate = 0.000500:   Batch Loss = 2.515000, Accuracy = 0.974609375\n",
      "PERFORMANCE ON TEST SET:             Batch Loss = 3.178596019744873, Accuracy = 0.8454545736312866\n",
      "Iter #102400:  Learning rate = 0.000480:   Batch Loss = 2.497875, Accuracy = 0.978515625\n",
      "PERFORMANCE ON TEST SET:             Batch Loss = 3.1606595516204834, Accuracy = 0.8545454740524292\n",
      "Iter #106496:  Learning rate = 0.000480:   Batch Loss = 2.485009, Accuracy = 0.98046875\n",
      "PERFORMANCE ON TEST SET:             Batch Loss = 3.142982006072998, Accuracy = 0.8575757741928101\n",
      "Iter #110592:  Learning rate = 0.000480:   Batch Loss = 2.492541, Accuracy = 0.96875\n",
      "PERFORMANCE ON TEST SET:             Batch Loss = 3.162364959716797, Accuracy = 0.8515151739120483\n",
      "Iter #114688:  Learning rate = 0.000480:   Batch Loss = 2.485025, Accuracy = 0.97265625\n",
      "PERFORMANCE ON TEST SET:             Batch Loss = 3.134079933166504, Accuracy = 0.8515151739120483\n",
      "Iter #118784:  Learning rate = 0.000480:   Batch Loss = 2.448041, Accuracy = 0.98046875\n",
      "PERFORMANCE ON TEST SET:             Batch Loss = 3.1523239612579346, Accuracy = 0.8575757741928101\n",
      "Iter #122880:  Learning rate = 0.000480:   Batch Loss = 2.436410, Accuracy = 0.984375\n",
      "PERFORMANCE ON TEST SET:             Batch Loss = 3.094273328781128, Accuracy = 0.8515151739120483\n",
      "Iter #126976:  Learning rate = 0.000480:   Batch Loss = 2.436276, Accuracy = 0.982421875\n",
      "PERFORMANCE ON TEST SET:             Batch Loss = 3.1292357444763184, Accuracy = 0.8515151739120483\n",
      "Iter #131072:  Learning rate = 0.000480:   Batch Loss = 2.437035, Accuracy = 0.978515625\n",
      "PERFORMANCE ON TEST SET:             Batch Loss = 3.137197494506836, Accuracy = 0.8515151739120483\n",
      "Iter #135168:  Learning rate = 0.000480:   Batch Loss = 2.422033, Accuracy = 0.98046875\n",
      "PERFORMANCE ON TEST SET:             Batch Loss = 3.136000394821167, Accuracy = 0.8393939137458801\n",
      "Iter #139264:  Learning rate = 0.000480:   Batch Loss = 2.454533, Accuracy = 0.958984375\n",
      "PERFORMANCE ON TEST SET:             Batch Loss = 3.084094762802124, Accuracy = 0.8515151739120483\n",
      "Iter #143360:  Learning rate = 0.000480:   Batch Loss = 2.451907, Accuracy = 0.970703125\n",
      "PERFORMANCE ON TEST SET:             Batch Loss = 3.111776351928711, Accuracy = 0.8393939137458801\n",
      "Iter #147456:  Learning rate = 0.000480:   Batch Loss = 2.434149, Accuracy = 0.97265625\n",
      "PERFORMANCE ON TEST SET:             Batch Loss = 3.0242011547088623, Accuracy = 0.8484848737716675\n",
      "Iter #151552:  Learning rate = 0.000480:   Batch Loss = 2.411627, Accuracy = 0.970703125\n",
      "PERFORMANCE ON TEST SET:             Batch Loss = 3.0872793197631836, Accuracy = 0.842424213886261\n",
      "Iter #155648:  Learning rate = 0.000480:   Batch Loss = 2.365185, Accuracy = 0.9921875\n",
      "PERFORMANCE ON TEST SET:             Batch Loss = 3.1401615142822266, Accuracy = 0.8484848737716675\n",
      "Iter #159744:  Learning rate = 0.000480:   Batch Loss = 2.365796, Accuracy = 0.982421875\n",
      "PERFORMANCE ON TEST SET:             Batch Loss = 3.1495323181152344, Accuracy = 0.8545454740524292\n",
      "Iter #163840:  Learning rate = 0.000480:   Batch Loss = 2.386454, Accuracy = 0.97265625\n",
      "PERFORMANCE ON TEST SET:             Batch Loss = 3.179448127746582, Accuracy = 0.8454545736312866\n",
      "Iter #167936:  Learning rate = 0.000480:   Batch Loss = 2.371514, Accuracy = 0.974609375\n",
      "PERFORMANCE ON TEST SET:             Batch Loss = 3.0687553882598877, Accuracy = 0.8545454740524292\n",
      "Optimization Finished!\n",
      "FINAL RESULT: Batch Loss = 3.059861660003662, Accuracy = 0.8484848737716675\n",
      "TOTAL TIME:  127.9373128414154\n"
     ]
    }
   ],
   "source": [
    "test_losses = []\n",
    "test_accuracies = []\n",
    "train_losses = []\n",
    "train_accuracies = []\n",
    "sess = tf.InteractiveSession(config=tf.ConfigProto(log_device_placement=True))\n",
    "init = tf.global_variables_initializer()\n",
    "sess.run(init)\n",
    "\n",
    "# Perform Training steps with \"batch_size\" amount of data at each loop. \n",
    "# Elements of each batch are chosen randomly, without replacement, from X_train, \n",
    "# restarting when remaining datapoints < batch_size\n",
    "step = 1\n",
    "time_start = time.time()\n",
    "unsampled_indices = list(range(0,len(X_train)))\n",
    "\n",
    "while step * batch_size <= training_iters:\n",
    "    #print (sess.run(learning_rate)) #decaying learning rate\n",
    "    #print (sess.run(global_step)) # global number of iterations\n",
    "    if len(unsampled_indices) < batch_size:\n",
    "        unsampled_indices = list(range(0,len(X_train))) \n",
    "    batch_xs, raw_labels, unsampled_indicies = extract_batch_size(X_train, y_train, unsampled_indices, batch_size)\n",
    "    batch_ys = one_hot(raw_labels)\n",
    "    # check that encoded output is same length as num_classes, if not, pad it \n",
    "    if len(batch_ys[0]) < n_classes:\n",
    "        temp_ys = np.zeros((batch_size, n_classes))\n",
    "        temp_ys[:batch_ys.shape[0],:batch_ys.shape[1]] = batch_ys\n",
    "        batch_ys = temp_ys\n",
    "       \n",
    "    \n",
    "\n",
    "    # Fit training using batch data\n",
    "    _, loss, acc = sess.run(\n",
    "        [optimizer, cost, accuracy],\n",
    "        feed_dict={\n",
    "            x: batch_xs, \n",
    "            y: batch_ys\n",
    "        }\n",
    "    )\n",
    "    train_losses.append(loss)\n",
    "    train_accuracies.append(acc)\n",
    "    \n",
    "    # Evaluate network only at some steps for faster training: \n",
    "    if (step*batch_size % display_iter == 0) or (step == 1) or (step * batch_size > training_iters):\n",
    "        \n",
    "        # To not spam console, show training accuracy/loss in this \"if\"\n",
    "        print(\"Iter #\" + str(step*batch_size) + \\\n",
    "              \":  Learning rate = \" + \"{:.6f}\".format(sess.run(learning_rate)) + \\\n",
    "              \":   Batch Loss = \" + \"{:.6f}\".format(loss) + \\\n",
    "              \", Accuracy = {}\".format(acc))\n",
    "        \n",
    "        # Evaluation on the test set (no learning made here - just evaluation for diagnosis)\n",
    "        loss, acc = sess.run(\n",
    "            [cost, accuracy], \n",
    "            feed_dict={\n",
    "                x: X_test,\n",
    "                y: one_hot(y_test)\n",
    "            }\n",
    "        )\n",
    "        test_losses.append(loss)\n",
    "        test_accuracies.append(acc)\n",
    "        print(\"PERFORMANCE ON TEST SET:             \" + \\\n",
    "              \"Batch Loss = {}\".format(loss) + \\\n",
    "              \", Accuracy = {}\".format(acc))\n",
    "        \n",
    "          \n",
    "\n",
    "    step += 1\n",
    "\n",
    "print(\"Optimization Finished!\")\n",
    "\n",
    "# Accuracy for test data\n",
    "\n",
    "one_hot_predictions, accuracy, final_loss = sess.run(\n",
    "    [pred, accuracy, cost],\n",
    "    feed_dict={\n",
    "        x: X_test,\n",
    "        y: one_hot(y_test)\n",
    "    }\n",
    ")\n",
    "\n",
    "test_losses.append(final_loss)\n",
    "test_accuracies.append(accuracy)\n",
    "\n",
    "print(\"FINAL RESULT: \" + \\\n",
    "      \"Batch Loss = {}\".format(final_loss) + \\\n",
    "      \", Accuracy = {}\".format(accuracy))\n",
    "time_stop = time.time()\n",
    "print(\"TOTAL TIME:  {}\".format(time_stop - time_start))\n",
    "     "
   ]
  },
  {
   "cell_type": "code",
   "execution_count": null,
   "metadata": {},
   "outputs": [
    {
     "data": {
      "image/png": "[encoded data removed]",
      "text/plain": [
       "<Figure size 576x432 with 1 Axes>"
      ]
     },
     "metadata": {
      "needs_background": "light"
     },
     "output_type": "display_data"
    }
   ],
   "source": [
    "import matplotlib.pyplot as plt\n",
    "import matplotlib.ticker as tick\n",
    "from matplotlib import ticker\n",
    "\n",
    "result = [(1e-9, 80.3, 18.6), (1e-8, 83, 15), (1e-7, 78.4, 0.86), (1e-6, 81, 17.08), (1e-5, 74, 13.70), (1e-4, 76, 14.36), (1e-3, 70, 15.6)]\n",
    "x = []\n",
    "y = []\n",
    "lr = [x[0] for x in result]\n",
    "acc = [x[1] for x in result]\n",
    "loss = [x[2] for x in result]\n",
    "\n",
    "fig, ax = plt.subplots(figsize=(8, 6))\n",
    "\n",
    "ax.plot(lr, acc)\n",
    "\n",
    "ax.set_xscale('log')\n",
    "\n",
    "plt.title(\"Acc vs Learning rate\")\n",
    "plt.xlabel(\"Learning rate\")\n",
    "plt.ylabel(\"Acc\")\n",
    "\n",
    "plt.savefig(\"accuracy.png\")\n"
   ]
  },
  {
   "cell_type": "code",
   "execution_count": null,
   "metadata": {},
   "outputs": [
    {
     "data": {
      "image/png": "[encoded data removed]",
      "text/plain": [
       "<Figure size 576x432 with 1 Axes>"
      ]
     },
     "metadata": {
      "needs_background": "light"
     },
     "output_type": "display_data"
    }
   ],
   "source": [
    "import matplotlib.pyplot as plt\n",
    "import matplotlib.ticker as tick\n",
    "from matplotlib import ticker\n",
    "\n",
    "result = [(1e-9, 80.3, 18.6), (1e-8, 83, 15), (1e-7, 78.4, 0.86), (1e-6, 81, 17.08), (1e-5, 74, 13.70), (1e-4, 76, 14.36), (1e-3, 70, 15.6)]\n",
    "x = []\n",
    "y = []\n",
    "lr = [x[0] for x in result]\n",
    "acc = [x[1] for x in result]\n",
    "loss = [x[2] for x in result]\n",
    "\n",
    "fig, ax = plt.subplots(figsize=(8, 6))\n",
    "\n",
    "ax.plot(lr, loss)\n",
    "\n",
    "ax.set_xscale('log')\n",
    "\n",
    "plt.title(\"Loss vs Learning rate\")\n",
    "plt.xlabel(\"Learning rate\")\n",
    "plt.ylabel(\"Loss\")\n",
    "\n",
    "plt.savefig(\"loss.png\")\n"
   ]
  },
  {
   "cell_type": "code",
   "execution_count": null,
   "metadata": {},
   "outputs": [],
   "source": [
    "#save model \n",
    "save_path = saver.save(sess, \"../models/DanceModel/danceClassify.ckpt\", global_step=step)  "
   ]
  },
  {
   "cell_type": "code",
   "execution_count": null,
   "metadata": {},
   "outputs": [
    {
     "name": "stderr",
     "output_type": "stream",
     "text": [
      "findfont: Font family ['Bitstream Vera Sans'] not found. Falling back to DejaVu Sans.\n",
      "findfont: Font family ['Bitstream Vera Sans'] not found. Falling back to DejaVu Sans.\n",
      "findfont: Font family ['Bitstream Vera Sans'] not found. Falling back to DejaVu Sans.\n"
     ]
    },
    {
     "name": "stdout",
     "output_type": "stream",
     "text": [
      "43\n",
      "331\n"
     ]
    },
    {
     "data": {
      "image/png": "[encoded data removed]",
      "text/plain": [
       "<Figure size 864x864 with 1 Axes>"
      ]
     },
     "metadata": {
      "needs_background": "light"
     },
     "output_type": "display_data"
    },
    {
     "name": "stdout",
     "output_type": "stream",
     "text": [
      "Testing Accuracy: 84.84848737716675%\n",
      "\n",
      "Precision: 88.14335475525014%\n",
      "Recall: 84.84848484848484%\n",
      "f1_score: 84.1137572465006%\n",
      "\n",
      "Confusion Matrix:\n",
      "Created using test set of 330 datapoints, normalised to % of each class in the test dataset\n"
     ]
    },
    {
     "data": {
      "image/png": "[encoded data removed]",
      "text/plain": [
       "<Figure size 864x864 with 2 Axes>"
      ]
     },
     "metadata": {
      "needs_background": "light"
     },
     "output_type": "display_data"
    }
   ],
   "source": [
    "# (Inline plots: )\n",
    "%matplotlib inline\n",
    "\n",
    "font = {\n",
    "    'family' : 'Bitstream Vera Sans',\n",
    "    'weight' : 'bold',\n",
    "    'size'   : 18\n",
    "}\n",
    "matplotlib.rc('font', **font)\n",
    "width = 12\n",
    "height = 12\n",
    "plt.figure(figsize=(width, height))\n",
    "\n",
    "indep_train_axis = np.array(range(batch_size, (len(train_losses)+1)*batch_size, batch_size))\n",
    "#plt.plot(indep_train_axis, np.array(train_losses),     \"b--\", label=\"Train losses\")\n",
    "plt.plot(indep_train_axis, np.array(train_accuracies), \"g--\", label=\"Train accuracies\")\n",
    "\n",
    "indep_test_axis = np.append(\n",
    "    np.array(range(batch_size, len(test_losses)*display_iter, display_iter)[:-1]),\n",
    "    [training_iters]\n",
    ")\n",
    "#plt.plot(indep_test_axis, np.array(test_losses), \"b-\", linewidth=2.0, label=\"Test losses\")\n",
    "plt.plot(indep_test_axis, np.array(test_accuracies), \"b-\", linewidth=2.0, label=\"Test accuracies\")\n",
    "print(len(test_accuracies))\n",
    "print(len(train_accuracies))\n",
    "\n",
    "plt.title(\"Training session's Accuracy over Iterations\")\n",
    "plt.legend(loc='lower right', shadow=True)\n",
    "plt.ylabel('Training Accuracy')\n",
    "plt.xlabel('Training Iteration')\n",
    "\n",
    "plt.show()\n",
    "\n",
    "# Results\n",
    "\n",
    "predictions = one_hot_predictions.argmax(1)\n",
    "\n",
    "print(\"Testing Accuracy: {}%\".format(100*accuracy))\n",
    "\n",
    "print(\"\")\n",
    "print(\"Precision: {}%\".format(100*metrics.precision_score(y_test, predictions, average=\"weighted\")))\n",
    "print(\"Recall: {}%\".format(100*metrics.recall_score(y_test, predictions, average=\"weighted\")))\n",
    "print(\"f1_score: {}%\".format(100*metrics.f1_score(y_test, predictions, average=\"weighted\")))\n",
    "\n",
    "print(\"\")\n",
    "print(\"Confusion Matrix:\")\n",
    "print(\"Created using test set of {} datapoints, normalised to % of each class in the test dataset\".format(len(y_test)))\n",
    "confusion_matrix = metrics.confusion_matrix(y_test, predictions)\n",
    "\n",
    "\n",
    "#print(confusion_matrix)\n",
    "normalised_confusion_matrix = np.array(confusion_matrix, dtype=np.float32)/np.sum(confusion_matrix)*100\n",
    "\n",
    "\n",
    "# Plot Results: \n",
    "width = 12\n",
    "height = 12\n",
    "plt.figure(figsize=(width, height))\n",
    "plt.imshow(\n",
    "    normalised_confusion_matrix, \n",
    "    interpolation='nearest', \n",
    "    cmap=plt.cm.Blues\n",
    ")\n",
    "plt.title(\"Confusion matrix \\n(normalised to % of total test data)\")\n",
    "plt.colorbar()\n",
    "tick_marks = np.arange(n_classes)\n",
    "plt.xticks(tick_marks, LABELS, rotation=90)\n",
    "plt.yticks(tick_marks, LABELS)\n",
    "plt.tight_layout()\n",
    "plt.ylabel('True label')\n",
    "plt.xlabel('Predicted label')\n",
    "plt.show()"
   ]
  },
  {
   "cell_type": "code",
   "execution_count": null,
   "metadata": {},
   "outputs": [],
   "source": [
    "save_path1 = \"../Script/DanceModel/danceClassify.ckpt-322\""
   ]
  },
  {
   "cell_type": "code",
   "execution_count": null,
   "metadata": {},
   "outputs": [],
   "source": [
    "init = tf.global_variables_initializer()\n",
    "sess = tf.InteractiveSession(config=tf.ConfigProto(log_device_placement=True))\n",
    "\n",
    "sess.run(init)\n",
    "saver.restore(sess, save_path1)\n",
    "predictions = sess.run(pred, feed_dict={x: np.expand_dims(X_test[43], axis=0)})\n",
    "predictions"
   ]
  },
  {
   "cell_type": "code",
   "execution_count": null,
   "metadata": {},
   "outputs": [
    {
     "name": "stdout",
     "output_type": "stream",
     "text": [
      "Label detected  afrobeat\n"
     ]
    }
   ],
   "source": [
    "import torch.nn.functional as F\n",
    "max_index = np.argmax(predictions)\n",
    "# get the index of the max probability\n",
    "label = LABELS[max_index]\n",
    "print(\"Label detected \", label)"
   ]
  }
 ],
 "metadata": {
  "kernelspec": {
   "display_name": "danceDowngrade",
   "language": "python",
   "name": "python3"
  },
  "language_info": {
   "codemirror_mode": {
    "name": "ipython",
    "version": 3
   },
   "file_extension": ".py",
   "mimetype": "text/x-python",
   "name": "python",
   "nbconvert_exporter": "python",
   "pygments_lexer": "ipython3",
   "version": "3.6.13"
  }
 },
 "nbformat": 4,
 "nbformat_minor": 2
}
